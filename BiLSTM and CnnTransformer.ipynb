{
 "cells": [
  {
   "cell_type": "code",
   "execution_count": 1,
   "id": "c6a5b475",
   "metadata": {},
   "outputs": [],
   "source": [
    "### Random Seed\n",
    "from numpy.random import seed\n",
    "seed(1)"
   ]
  },
  {
   "cell_type": "code",
   "execution_count": null,
   "id": "c1180d91",
   "metadata": {},
   "outputs": [],
   "source": []
  },
  {
   "cell_type": "code",
   "execution_count": 2,
   "id": "eb431496",
   "metadata": {},
   "outputs": [],
   "source": [
    "from matplotlib import pyplot as plt\n",
    "import numpy as np\n",
    "import pandas as pd\n",
    "import seaborn as sns\n",
    "import pathlib\n",
    "import csv"
   ]
  },
  {
   "cell_type": "code",
   "execution_count": 3,
   "id": "2a6bbedb",
   "metadata": {},
   "outputs": [
    {
     "name": "stdout",
     "output_type": "stream",
     "text": [
      "(108170, 22)\n"
     ]
    },
    {
     "data": {
      "text/html": [
       "<div>\n",
       "<style scoped>\n",
       "    .dataframe tbody tr th:only-of-type {\n",
       "        vertical-align: middle;\n",
       "    }\n",
       "\n",
       "    .dataframe tbody tr th {\n",
       "        vertical-align: top;\n",
       "    }\n",
       "\n",
       "    .dataframe thead th {\n",
       "        text-align: right;\n",
       "    }\n",
       "</style>\n",
       "<table border=\"1\" class=\"dataframe\">\n",
       "  <thead>\n",
       "    <tr style=\"text-align: right;\">\n",
       "      <th></th>\n",
       "      <th>Unnamed: 0</th>\n",
       "      <th>Pid</th>\n",
       "      <th>timestamp</th>\n",
       "      <th>S1_Ax</th>\n",
       "      <th>S1_Ay</th>\n",
       "      <th>S1_Az</th>\n",
       "      <th>S1_Gx</th>\n",
       "      <th>S1_Gy</th>\n",
       "      <th>S1_Gz</th>\n",
       "      <th>S2_Ax</th>\n",
       "      <th>...</th>\n",
       "      <th>S2_Gx</th>\n",
       "      <th>S2_Gy</th>\n",
       "      <th>S2_Gz</th>\n",
       "      <th>S3_Ax</th>\n",
       "      <th>S3_Ay</th>\n",
       "      <th>S3_Az</th>\n",
       "      <th>S3_Gx</th>\n",
       "      <th>S3_Gy</th>\n",
       "      <th>S3_Gz</th>\n",
       "      <th>Label</th>\n",
       "    </tr>\n",
       "  </thead>\n",
       "  <tbody>\n",
       "    <tr>\n",
       "      <th>0</th>\n",
       "      <td>0</td>\n",
       "      <td>P1_BS</td>\n",
       "      <td>3.00</td>\n",
       "      <td>-84.23</td>\n",
       "      <td>-994.63</td>\n",
       "      <td>8.06</td>\n",
       "      <td>-0.37</td>\n",
       "      <td>-2.62</td>\n",
       "      <td>1.65</td>\n",
       "      <td>311.28</td>\n",
       "      <td>...</td>\n",
       "      <td>2.08</td>\n",
       "      <td>-3.23</td>\n",
       "      <td>-4.33</td>\n",
       "      <td>-68.12</td>\n",
       "      <td>-970.46</td>\n",
       "      <td>150.15</td>\n",
       "      <td>1.83</td>\n",
       "      <td>0.24</td>\n",
       "      <td>0.61</td>\n",
       "      <td>Downstairs</td>\n",
       "    </tr>\n",
       "    <tr>\n",
       "      <th>1</th>\n",
       "      <td>1</td>\n",
       "      <td>P1_BS</td>\n",
       "      <td>3.01</td>\n",
       "      <td>-86.43</td>\n",
       "      <td>-1004.15</td>\n",
       "      <td>16.85</td>\n",
       "      <td>-0.18</td>\n",
       "      <td>-3.17</td>\n",
       "      <td>0.85</td>\n",
       "      <td>301.76</td>\n",
       "      <td>...</td>\n",
       "      <td>6.77</td>\n",
       "      <td>3.05</td>\n",
       "      <td>-3.78</td>\n",
       "      <td>-73.24</td>\n",
       "      <td>-978.52</td>\n",
       "      <td>140.62</td>\n",
       "      <td>0.55</td>\n",
       "      <td>-0.24</td>\n",
       "      <td>0.31</td>\n",
       "      <td>Downstairs</td>\n",
       "    </tr>\n",
       "  </tbody>\n",
       "</table>\n",
       "<p>2 rows × 22 columns</p>\n",
       "</div>"
      ],
      "text/plain": [
       "   Unnamed: 0    Pid  timestamp  S1_Ax    S1_Ay  S1_Az  S1_Gx  S1_Gy  S1_Gz  \\\n",
       "0           0  P1_BS       3.00 -84.23  -994.63   8.06  -0.37  -2.62   1.65   \n",
       "1           1  P1_BS       3.01 -86.43 -1004.15  16.85  -0.18  -3.17   0.85   \n",
       "\n",
       "    S2_Ax  ...  S2_Gx  S2_Gy  S2_Gz  S3_Ax   S3_Ay   S3_Az  S3_Gx  S3_Gy  \\\n",
       "0  311.28  ...   2.08  -3.23  -4.33 -68.12 -970.46  150.15   1.83   0.24   \n",
       "1  301.76  ...   6.77   3.05  -3.78 -73.24 -978.52  140.62   0.55  -0.24   \n",
       "\n",
       "   S3_Gz       Label  \n",
       "0   0.61  Downstairs  \n",
       "1   0.31  Downstairs  \n",
       "\n",
       "[2 rows x 22 columns]"
      ]
     },
     "execution_count": 3,
     "metadata": {},
     "output_type": "execute_result"
    }
   ],
   "source": [
    "df = pd.read_csv('belt_sensor_all.csv')\n",
    "print(df.shape)\n",
    "df.head(2)"
   ]
  },
  {
   "cell_type": "code",
   "execution_count": 4,
   "id": "7774df8c",
   "metadata": {},
   "outputs": [
    {
     "data": {
      "text/plain": [
       "Pid\n",
       "P1_BS            12278\n",
       "P2_BS            13016\n",
       "P3_BS            13016\n",
       "P4_BS            12946\n",
       "P5_BS            13016\n",
       "p10_all_BS123     8825\n",
       "p11_all_BS123     8598\n",
       "p6_all_BS123      8825\n",
       "p7_all_BS123      8825\n",
       "p8_all_BS123      8825\n",
       "dtype: int64"
      ]
     },
     "execution_count": 4,
     "metadata": {},
     "output_type": "execute_result"
    }
   ],
   "source": [
    "df.groupby('Pid').size()"
   ]
  },
  {
   "cell_type": "code",
   "execution_count": 5,
   "id": "ea597caf",
   "metadata": {},
   "outputs": [],
   "source": [
    "### Low Pass filter \n",
    "from scipy import signal\n",
    "def butter_lowpass(cutoff, nyq_freq, order=4):\n",
    "    normal_cutoff = float(cutoff) / nyq_freq\n",
    "    b, a = signal.butter(order, normal_cutoff, btype='lowpass')\n",
    "    return b, a\n",
    "\n",
    "def butter_lowpass_filter(data, cutoff_freq, nyq_freq, order=4):\n",
    "    b, a = butter_lowpass(cutoff_freq, nyq_freq, order=order)\n",
    "    y = signal.filtfilt(b, a, data)\n",
    "    return y"
   ]
  },
  {
   "cell_type": "code",
   "execution_count": 6,
   "id": "4ff313b8",
   "metadata": {},
   "outputs": [],
   "source": [
    "#low pass filter\n",
    "lowpass_filtred=[]\n",
    "dfm=df[['S1_Ax', 'S1_Ay', 'S1_Az', 'S1_Gx', 'S1_Gy','S1_Gz', 'S2_Ax', 'S2_Ay', 'S2_Az', 'S2_Gx', 'S2_Gy', 'S2_Gz', 'S3_Ax',\n",
    "       'S3_Ay', 'S3_Az', 'S3_Gx', 'S3_Gy', 'S3_Gz']]\n",
    "for column in dfm.columns:# iterate over each column in raw_df\n",
    "    cutoff_frequency = 15.0\n",
    "    sample_rate=100\n",
    "    t_signal=np.array(dfm[column]) #copie the signal values in 1D numpy array\n",
    "    y = butter_lowpass_filter(t_signal,cutoff_frequency,sample_rate/2) \n",
    "    lowpass_filtred.append(y)\n",
    "lowpass=pd.DataFrame(lowpass_filtred)\n",
    "lowpass=lowpass.T\n",
    "lowpass.columns=['S1_Ax', 'S1_Ay', 'S1_Az', 'S1_Gx', 'S1_Gy','S1_Gz', 'S2_Ax', 'S2_Ay', 'S2_Az', 'S2_Gx', 'S2_Gy', 'S2_Gz', 'S3_Ax',\n",
    "       'S3_Ay', 'S3_Az', 'S3_Gx', 'S3_Gy', 'S3_Gz']\n",
    "df1=df[['Pid','timestamp']]\n",
    "df_filtred=pd.concat([df1,lowpass],axis=1)\n",
    "df_filtred['Label']=df['Label']"
   ]
  },
  {
   "cell_type": "code",
   "execution_count": 7,
   "id": "ff599e5f",
   "metadata": {},
   "outputs": [
    {
     "data": {
      "text/plain": [
       "Upstairs      29345\n",
       "Downstairs    25030\n",
       "Walking       19440\n",
       "Standing      12180\n",
       "Sitting       11265\n",
       "Laying        10910\n",
       "Name: Label, dtype: int64"
      ]
     },
     "execution_count": 7,
     "metadata": {},
     "output_type": "execute_result"
    }
   ],
   "source": [
    "df_filtred['Label'].value_counts()"
   ]
  },
  {
   "cell_type": "code",
   "execution_count": 8,
   "id": "8fb80b89",
   "metadata": {},
   "outputs": [
    {
     "name": "stdout",
     "output_type": "stream",
     "text": [
      "Class Counts:\n",
      " Upstairs      29345\n",
      "Downstairs    25030\n",
      "Walking       19440\n",
      "Standing      12180\n",
      "Sitting       11265\n",
      "Laying        10910\n",
      "Name: Label, dtype: int64\n"
     ]
    },
    {
     "data": {
      "image/png": "[encoded data removed]",
      "text/plain": [
       "<Figure size 576x432 with 1 Axes>"
      ]
     },
     "metadata": {
      "needs_background": "light"
     },
     "output_type": "display_data"
    }
   ],
   "source": [
    "import matplotlib.pyplot as plt\n",
    "import seaborn as sns\n",
    "import pandas as pd\n",
    "\n",
    "\n",
    "# Checking class balance\n",
    "class_counts = df_filtred['Label'].value_counts()\n",
    "print(\"Class Counts:\\n\", class_counts)\n",
    "\n",
    "# Plotting class balance\n",
    "plt.figure(figsize=(8, 6))\n",
    "sns.set(style=\"whitegrid\")\n",
    "sns.countplot(x='Label', data=df_filtred, palette=\"Set2\")\n",
    "plt.title('Class Distribution Before Balancing')\n",
    "plt.xlabel('Class Labels')\n",
    "plt.ylabel('Count')\n",
    "\n",
    "# # Displaying percentages on top of the bars\n",
    "# total = len(df_filtred['Label'])\n",
    "# for i, count in enumerate(class_counts):\n",
    "#     plt.text(i, count + 0.1, f'{count/total*100:.2f}%', ha='center')\n",
    "\n",
    "# Save the plot to a file if needed\n",
    "# plt.savefig('class_balance_plot.png')\n",
    "\n",
    "# Show the plot\n",
    "plt.show()\n"
   ]
  },
  {
   "cell_type": "code",
   "execution_count": 9,
   "id": "3984555a",
   "metadata": {},
   "outputs": [
    {
     "name": "stdout",
     "output_type": "stream",
     "text": [
      "(176070, 19)\n"
     ]
    },
    {
     "data": {
      "text/html": [
       "<div>\n",
       "<style scoped>\n",
       "    .dataframe tbody tr th:only-of-type {\n",
       "        vertical-align: middle;\n",
       "    }\n",
       "\n",
       "    .dataframe tbody tr th {\n",
       "        vertical-align: top;\n",
       "    }\n",
       "\n",
       "    .dataframe thead th {\n",
       "        text-align: right;\n",
       "    }\n",
       "</style>\n",
       "<table border=\"1\" class=\"dataframe\">\n",
       "  <thead>\n",
       "    <tr style=\"text-align: right;\">\n",
       "      <th></th>\n",
       "      <th>S1_Ax</th>\n",
       "      <th>S1_Ay</th>\n",
       "      <th>S1_Az</th>\n",
       "      <th>S1_Gx</th>\n",
       "      <th>S1_Gy</th>\n",
       "      <th>S1_Gz</th>\n",
       "      <th>S2_Ax</th>\n",
       "      <th>S2_Ay</th>\n",
       "      <th>S2_Az</th>\n",
       "      <th>S2_Gx</th>\n",
       "      <th>S2_Gy</th>\n",
       "      <th>S2_Gz</th>\n",
       "      <th>S3_Ax</th>\n",
       "      <th>S3_Ay</th>\n",
       "      <th>S3_Az</th>\n",
       "      <th>S3_Gx</th>\n",
       "      <th>S3_Gy</th>\n",
       "      <th>S3_Gz</th>\n",
       "      <th>Label</th>\n",
       "    </tr>\n",
       "  </thead>\n",
       "  <tbody>\n",
       "    <tr>\n",
       "      <th>0</th>\n",
       "      <td>-84.222490</td>\n",
       "      <td>-994.627346</td>\n",
       "      <td>8.055153</td>\n",
       "      <td>-0.370396</td>\n",
       "      <td>-2.620791</td>\n",
       "      <td>1.649596</td>\n",
       "      <td>311.291489</td>\n",
       "      <td>-1061.332673</td>\n",
       "      <td>81.294603</td>\n",
       "      <td>2.077435</td>\n",
       "      <td>-3.234044</td>\n",
       "      <td>-4.329407</td>\n",
       "      <td>-68.121248</td>\n",
       "      <td>-970.461276</td>\n",
       "      <td>150.138268</td>\n",
       "      <td>1.829730</td>\n",
       "      <td>0.240081</td>\n",
       "      <td>0.610366</td>\n",
       "      <td>Downstairs</td>\n",
       "    </tr>\n",
       "    <tr>\n",
       "      <th>1</th>\n",
       "      <td>-88.069874</td>\n",
       "      <td>-998.773910</td>\n",
       "      <td>11.651440</td>\n",
       "      <td>-0.282880</td>\n",
       "      <td>-3.161370</td>\n",
       "      <td>0.810362</td>\n",
       "      <td>301.127326</td>\n",
       "      <td>-1027.592784</td>\n",
       "      <td>86.576920</td>\n",
       "      <td>6.452058</td>\n",
       "      <td>2.962058</td>\n",
       "      <td>-3.769370</td>\n",
       "      <td>-70.387323</td>\n",
       "      <td>-977.643665</td>\n",
       "      <td>146.687971</td>\n",
       "      <td>0.477777</td>\n",
       "      <td>-0.317638</td>\n",
       "      <td>0.282808</td>\n",
       "      <td>Downstairs</td>\n",
       "    </tr>\n",
       "  </tbody>\n",
       "</table>\n",
       "</div>"
      ],
      "text/plain": [
       "       S1_Ax       S1_Ay      S1_Az     S1_Gx     S1_Gy     S1_Gz       S2_Ax  \\\n",
       "0 -84.222490 -994.627346   8.055153 -0.370396 -2.620791  1.649596  311.291489   \n",
       "1 -88.069874 -998.773910  11.651440 -0.282880 -3.161370  0.810362  301.127326   \n",
       "\n",
       "         S2_Ay      S2_Az     S2_Gx     S2_Gy     S2_Gz      S3_Ax  \\\n",
       "0 -1061.332673  81.294603  2.077435 -3.234044 -4.329407 -68.121248   \n",
       "1 -1027.592784  86.576920  6.452058  2.962058 -3.769370 -70.387323   \n",
       "\n",
       "        S3_Ay       S3_Az     S3_Gx     S3_Gy     S3_Gz       Label  \n",
       "0 -970.461276  150.138268  1.829730  0.240081  0.610366  Downstairs  \n",
       "1 -977.643665  146.687971  0.477777 -0.317638  0.282808  Downstairs  "
      ]
     },
     "execution_count": 9,
     "metadata": {},
     "output_type": "execute_result"
    }
   ],
   "source": [
    "from imblearn.over_sampling import SMOTE\n",
    "# split data into input and output elements\n",
    "X = df_filtred[['S1_Ax', 'S1_Ay', 'S1_Az', 'S1_Gx', 'S1_Gy',\n",
    "       'S1_Gz', 'S2_Ax', 'S2_Ay', 'S2_Az', 'S2_Gx', 'S2_Gy', 'S2_Gz', 'S3_Ax',\n",
    "       'S3_Ay', 'S3_Az', 'S3_Gx', 'S3_Gy', 'S3_Gz']]\n",
    "y = df_filtred[['Label']]\n",
    "\n",
    "oversample = SMOTE()\n",
    "Xo, yo = oversample.fit_resample(X, y)\n",
    "\n",
    "df_Smoted=pd.concat([Xo,yo],axis=1)\n",
    "print(df_Smoted.shape)\n",
    "df_Smoted.head(2)"
   ]
  },
  {
   "cell_type": "code",
   "execution_count": 10,
   "id": "6b3ebad2",
   "metadata": {},
   "outputs": [
    {
     "name": "stdout",
     "output_type": "stream",
     "text": [
      "Class Counts:\n",
      " Downstairs    29345\n",
      "Walking       29345\n",
      "Upstairs      29345\n",
      "Sitting       29345\n",
      "Laying        29345\n",
      "Standing      29345\n",
      "Name: Label, dtype: int64\n"
     ]
    },
    {
     "data": {
      "image/png": "[encoded data removed]",
      "text/plain": [
       "<Figure size 576x432 with 1 Axes>"
      ]
     },
     "metadata": {},
     "output_type": "display_data"
    }
   ],
   "source": [
    "import matplotlib.pyplot as plt\n",
    "import seaborn as sns\n",
    "import pandas as pd\n",
    "\n",
    "\n",
    "# Checking class balance\n",
    "class_counts = df_Smoted['Label'].value_counts()\n",
    "print(\"Class Counts:\\n\", class_counts)\n",
    "\n",
    "# Plotting class balance\n",
    "plt.figure(figsize=(8, 6))\n",
    "sns.set(style=\"whitegrid\")\n",
    "sns.countplot(x='Label', data=df_Smoted, palette=\"Set2\")\n",
    "plt.title('Class Distribution After SMOTE Balancing')\n",
    "plt.xlabel('Class Labels')\n",
    "plt.ylabel('Count')\n",
    "\n",
    "# # Displaying percentages on top of the bars\n",
    "# total = len(df_filtred['Label'])\n",
    "# for i, count in enumerate(class_counts):\n",
    "#     plt.text(i, count + 0.1, f'{count/total*100:.2f}%', ha='center')\n",
    "\n",
    "# Save the plot to a file if needed\n",
    "# plt.savefig('class_balance_plot.png')\n",
    "\n",
    "# Show the plot\n",
    "plt.show()\n"
   ]
  },
  {
   "cell_type": "code",
   "execution_count": 11,
   "id": "de0bd882",
   "metadata": {},
   "outputs": [
    {
     "data": {
      "text/html": [
       "<div>\n",
       "<style scoped>\n",
       "    .dataframe tbody tr th:only-of-type {\n",
       "        vertical-align: middle;\n",
       "    }\n",
       "\n",
       "    .dataframe tbody tr th {\n",
       "        vertical-align: top;\n",
       "    }\n",
       "\n",
       "    .dataframe thead th {\n",
       "        text-align: right;\n",
       "    }\n",
       "</style>\n",
       "<table border=\"1\" class=\"dataframe\">\n",
       "  <thead>\n",
       "    <tr style=\"text-align: right;\">\n",
       "      <th></th>\n",
       "      <th>S1_Ax</th>\n",
       "      <th>S1_Ay</th>\n",
       "      <th>S1_Az</th>\n",
       "      <th>S1_Gx</th>\n",
       "      <th>S1_Gy</th>\n",
       "      <th>S1_Gz</th>\n",
       "      <th>S2_Ax</th>\n",
       "      <th>S2_Ay</th>\n",
       "      <th>S2_Az</th>\n",
       "      <th>S2_Gx</th>\n",
       "      <th>S2_Gy</th>\n",
       "      <th>S2_Gz</th>\n",
       "      <th>S3_Ax</th>\n",
       "      <th>S3_Ay</th>\n",
       "      <th>S3_Az</th>\n",
       "      <th>S3_Gx</th>\n",
       "      <th>S3_Gy</th>\n",
       "      <th>S3_Gz</th>\n",
       "      <th>Label</th>\n",
       "      <th>Label_id</th>\n",
       "    </tr>\n",
       "  </thead>\n",
       "  <tbody>\n",
       "    <tr>\n",
       "      <th>0</th>\n",
       "      <td>-84.222490</td>\n",
       "      <td>-994.627346</td>\n",
       "      <td>8.055153</td>\n",
       "      <td>-0.370396</td>\n",
       "      <td>-2.620791</td>\n",
       "      <td>1.649596</td>\n",
       "      <td>311.291489</td>\n",
       "      <td>-1061.332673</td>\n",
       "      <td>81.294603</td>\n",
       "      <td>2.077435</td>\n",
       "      <td>-3.234044</td>\n",
       "      <td>-4.329407</td>\n",
       "      <td>-68.121248</td>\n",
       "      <td>-970.461276</td>\n",
       "      <td>150.138268</td>\n",
       "      <td>1.829730</td>\n",
       "      <td>0.240081</td>\n",
       "      <td>0.610366</td>\n",
       "      <td>Downstairs</td>\n",
       "      <td>0</td>\n",
       "    </tr>\n",
       "    <tr>\n",
       "      <th>1</th>\n",
       "      <td>-88.069874</td>\n",
       "      <td>-998.773910</td>\n",
       "      <td>11.651440</td>\n",
       "      <td>-0.282880</td>\n",
       "      <td>-3.161370</td>\n",
       "      <td>0.810362</td>\n",
       "      <td>301.127326</td>\n",
       "      <td>-1027.592784</td>\n",
       "      <td>86.576920</td>\n",
       "      <td>6.452058</td>\n",
       "      <td>2.962058</td>\n",
       "      <td>-3.769370</td>\n",
       "      <td>-70.387323</td>\n",
       "      <td>-977.643665</td>\n",
       "      <td>146.687971</td>\n",
       "      <td>0.477777</td>\n",
       "      <td>-0.317638</td>\n",
       "      <td>0.282808</td>\n",
       "      <td>Downstairs</td>\n",
       "      <td>0</td>\n",
       "    </tr>\n",
       "  </tbody>\n",
       "</table>\n",
       "</div>"
      ],
      "text/plain": [
       "       S1_Ax       S1_Ay      S1_Az     S1_Gx     S1_Gy     S1_Gz       S2_Ax  \\\n",
       "0 -84.222490 -994.627346   8.055153 -0.370396 -2.620791  1.649596  311.291489   \n",
       "1 -88.069874 -998.773910  11.651440 -0.282880 -3.161370  0.810362  301.127326   \n",
       "\n",
       "         S2_Ay      S2_Az     S2_Gx     S2_Gy     S2_Gz      S3_Ax  \\\n",
       "0 -1061.332673  81.294603  2.077435 -3.234044 -4.329407 -68.121248   \n",
       "1 -1027.592784  86.576920  6.452058  2.962058 -3.769370 -70.387323   \n",
       "\n",
       "        S3_Ay       S3_Az     S3_Gx     S3_Gy     S3_Gz       Label  Label_id  \n",
       "0 -970.461276  150.138268  1.829730  0.240081  0.610366  Downstairs         0  \n",
       "1 -977.643665  146.687971  0.477777 -0.317638  0.282808  Downstairs         0  "
      ]
     },
     "execution_count": 11,
     "metadata": {},
     "output_type": "execute_result"
    }
   ],
   "source": [
    "df_Smoted['Label_id']=df_Smoted['Label']\n",
    "dff=df_Smoted.replace({'Label_id': {'Downstairs':0,'Walking':1,'Upstairs':2,\n",
    "                        'Sitting':3,'Laying':4,'Standing':5}})\n",
    "dff.head(2)"
   ]
  },
  {
   "cell_type": "code",
   "execution_count": 12,
   "id": "79320b1a",
   "metadata": {},
   "outputs": [
    {
     "name": "stdout",
     "output_type": "stream",
     "text": [
      "(108170, 19)\n"
     ]
    },
    {
     "data": {
      "text/html": [
       "<div>\n",
       "<style scoped>\n",
       "    .dataframe tbody tr th:only-of-type {\n",
       "        vertical-align: middle;\n",
       "    }\n",
       "\n",
       "    .dataframe tbody tr th {\n",
       "        vertical-align: top;\n",
       "    }\n",
       "\n",
       "    .dataframe thead th {\n",
       "        text-align: right;\n",
       "    }\n",
       "</style>\n",
       "<table border=\"1\" class=\"dataframe\">\n",
       "  <thead>\n",
       "    <tr style=\"text-align: right;\">\n",
       "      <th></th>\n",
       "      <th>S1_Ax</th>\n",
       "      <th>S1_Ay</th>\n",
       "      <th>S1_Az</th>\n",
       "      <th>S1_Gx</th>\n",
       "      <th>S1_Gy</th>\n",
       "      <th>S1_Gz</th>\n",
       "      <th>S2_Ax</th>\n",
       "      <th>S2_Ay</th>\n",
       "      <th>S2_Az</th>\n",
       "      <th>S2_Gx</th>\n",
       "      <th>S2_Gy</th>\n",
       "      <th>S2_Gz</th>\n",
       "      <th>S3_Ax</th>\n",
       "      <th>S3_Ay</th>\n",
       "      <th>S3_Az</th>\n",
       "      <th>S3_Gx</th>\n",
       "      <th>S3_Gy</th>\n",
       "      <th>S3_Gz</th>\n",
       "      <th>Label_id</th>\n",
       "    </tr>\n",
       "  </thead>\n",
       "  <tbody>\n",
       "    <tr>\n",
       "      <th>108168</th>\n",
       "      <td>-1.184801</td>\n",
       "      <td>-1.246834</td>\n",
       "      <td>1.052031</td>\n",
       "      <td>-1.358904</td>\n",
       "      <td>1.442018</td>\n",
       "      <td>0.213337</td>\n",
       "      <td>-0.374825</td>\n",
       "      <td>0.984964</td>\n",
       "      <td>0.103477</td>\n",
       "      <td>-0.647672</td>\n",
       "      <td>0.728023</td>\n",
       "      <td>0.554009</td>\n",
       "      <td>-0.495231</td>\n",
       "      <td>-0.095276</td>\n",
       "      <td>0.177837</td>\n",
       "      <td>0.934893</td>\n",
       "      <td>3.810924</td>\n",
       "      <td>-1.627844</td>\n",
       "      <td>5</td>\n",
       "    </tr>\n",
       "    <tr>\n",
       "      <th>108169</th>\n",
       "      <td>-0.948608</td>\n",
       "      <td>-2.459766</td>\n",
       "      <td>0.808399</td>\n",
       "      <td>-2.407089</td>\n",
       "      <td>1.100033</td>\n",
       "      <td>0.209530</td>\n",
       "      <td>-0.625947</td>\n",
       "      <td>0.657764</td>\n",
       "      <td>0.264402</td>\n",
       "      <td>-0.508701</td>\n",
       "      <td>1.039492</td>\n",
       "      <td>0.488135</td>\n",
       "      <td>-0.641922</td>\n",
       "      <td>-0.120628</td>\n",
       "      <td>0.178026</td>\n",
       "      <td>0.853266</td>\n",
       "      <td>3.767479</td>\n",
       "      <td>-1.420029</td>\n",
       "      <td>5</td>\n",
       "    </tr>\n",
       "  </tbody>\n",
       "</table>\n",
       "</div>"
      ],
      "text/plain": [
       "           S1_Ax     S1_Ay     S1_Az     S1_Gx     S1_Gy     S1_Gz     S2_Ax  \\\n",
       "108168 -1.184801 -1.246834  1.052031 -1.358904  1.442018  0.213337 -0.374825   \n",
       "108169 -0.948608 -2.459766  0.808399 -2.407089  1.100033  0.209530 -0.625947   \n",
       "\n",
       "           S2_Ay     S2_Az     S2_Gx     S2_Gy     S2_Gz     S3_Ax     S3_Ay  \\\n",
       "108168  0.984964  0.103477 -0.647672  0.728023  0.554009 -0.495231 -0.095276   \n",
       "108169  0.657764  0.264402 -0.508701  1.039492  0.488135 -0.641922 -0.120628   \n",
       "\n",
       "           S3_Az     S3_Gx     S3_Gy     S3_Gz  Label_id  \n",
       "108168  0.177837  0.934893  3.810924 -1.627844         5  \n",
       "108169  0.178026  0.853266  3.767479 -1.420029         5  "
      ]
     },
     "execution_count": 12,
     "metadata": {},
     "output_type": "execute_result"
    }
   ],
   "source": [
    "# Label encoding\n",
    "df_filtred['Label_id']=df_filtred['Label']\n",
    "dff=df_filtred.replace({'Label_id': {'Downstairs':0,'Walking':1,'Upstairs':2,\n",
    "                        'Sitting':3,'Laying':4,'Standing':5}})\n",
    "## Normalize/Standardize data\n",
    "from sklearn.preprocessing import StandardScaler, LabelEncoder\n",
    "X = dff[['S1_Ax', 'S1_Ay', 'S1_Az', 'S1_Gx', 'S1_Gy','S1_Gz', 'S2_Ax', 'S2_Ay', 'S2_Az', 'S2_Gx', 'S2_Gy', 'S2_Gz', 'S3_Ax',\n",
    "       'S3_Ay', 'S3_Az', 'S3_Gx', 'S3_Gy', 'S3_Gz']]\n",
    "y = dff['Label_id']\n",
    "scaler = StandardScaler()\n",
    "dx = scaler.fit_transform(X)\n",
    "\n",
    "df_scaled = pd.DataFrame(data = dx, columns = X.columns)\n",
    "df_scaled['Label_id'] = y.values\n",
    "\n",
    "print(df_scaled.shape)\n",
    "df_scaled.tail(2)"
   ]
  },
  {
   "cell_type": "code",
   "execution_count": 13,
   "id": "b623d12b",
   "metadata": {},
   "outputs": [],
   "source": [
    "## Segmentation (window Preparation)\n",
    "import scipy.stats as stats\n",
    "Fs = 100\n",
    "segment_size = 500 # fs*3 # window size=n_time steps=frame size\n",
    "step_size = 50  #  Fs/2 # step size is related to window overlap\n",
    "n_features = 18\n",
    "def get_segments(df, segment_size, step_size):\n",
    "\n",
    "    segments = []\n",
    "    labels = []\n",
    "    \n",
    "    for i in range(0, len(df) - segment_size - 1, step_size):\n",
    "        S1Ax = df_scaled['S1_Ax'].values[i: i + segment_size]\n",
    "        S1Ay = df_scaled['S1_Ay'].values[i: i + segment_size]\n",
    "        S1Az = df_scaled['S1_Az'].values[i: i + segment_size]\n",
    "        S1Gx = df_scaled['S1_Gx'].values[i: i + segment_size]\n",
    "        S1Gy = df_scaled['S1_Gy'].values[i: i + segment_size]\n",
    "        S1Gz = df_scaled['S1_Gz'].values[i: i + segment_size]\n",
    "        \n",
    "        S2Ax = df_scaled['S2_Ax'].values[i: i + segment_size]\n",
    "        S2Ay = df_scaled['S2_Ay'].values[i: i + segment_size]\n",
    "        S2Az = df_scaled['S2_Az'].values[i: i + segment_size]\n",
    "        S2Gx = df_scaled['S2_Gx'].values[i: i + segment_size]\n",
    "        S2Gy = df_scaled['S2_Gy'].values[i: i + segment_size]\n",
    "        S2Gz = df_scaled['S2_Gz'].values[i: i + segment_size]\n",
    "        \n",
    "        \n",
    "        S3Ax = df_scaled['S3_Ax'].values[i: i + segment_size]\n",
    "        S3Ay = df_scaled['S3_Ay'].values[i: i + segment_size]\n",
    "        S3Az = df_scaled['S3_Az'].values[i: i + segment_size]\n",
    "        S3Gx = df_scaled['S3_Gx'].values[i: i + segment_size]\n",
    "        S3Gy = df_scaled['S3_Gy'].values[i: i + segment_size]\n",
    "        S3Gz = df_scaled['S3_Gz'].values[i: i + segment_size]\n",
    "        \n",
    "          # Retrieve the most often used label in this segment\n",
    "        # label = stats.mode(df_scaled['Label_id'][i: i + segment_size])[0][0] ## [0][0] shows the current sequence\n",
    "        label = np.unique(df_scaled['Label_id'][i: i + segment_size])[0]\n",
    "\n",
    "        #We used the dstack() to ensure that each array is stacked in such a way that\n",
    "        #the features are separated in the third dimension, as we would prefer.\n",
    "        segments.append(np.dstack([S1Ax, S1Ay, S1Az,S1Gx,S1Gy,S1Gz,S2Ax,S2Ay,S2Az, S2Gx,S2Gy,S2Gz,S3Ax,S3Ay,S3Az,S3Gx,S3Gy,S3Gz]))\n",
    "        labels.append(label)\n",
    "\n",
    "    # Bring the segments into a better shape\n",
    "    segments=np.asarray(segments, dtype= np.float32).reshape(-1, segment_size, n_features)\n",
    "    labels = np.asarray(pd.get_dummies(labels), dtype = np.float32)\n",
    "        \n",
    "    return segments, labels\n"
   ]
  },
  {
   "cell_type": "code",
   "execution_count": 14,
   "id": "0f7b9199",
   "metadata": {},
   "outputs": [],
   "source": [
    "X, y = get_segments(df_scaled, segment_size, step_size)"
   ]
  },
  {
   "cell_type": "code",
   "execution_count": 15,
   "id": "7ac4ad83",
   "metadata": {},
   "outputs": [
    {
     "data": {
      "text/plain": [
       "((2154, 500, 18), (2154, 6), 2154)"
      ]
     },
     "execution_count": 15,
     "metadata": {},
     "output_type": "execute_result"
    }
   ],
   "source": [
    "X.shape,y.shape, y.shape[0]"
   ]
  },
  {
   "cell_type": "code",
   "execution_count": 16,
   "id": "b7657368",
   "metadata": {},
   "outputs": [],
   "source": [
    "# # reshape data into time steps of sub-sequences\n",
    "\n",
    "# n_steps, n_length = 10, 50\n",
    "# df_X = X.reshape((X.shape[0], n_steps, n_length, n_features))\n",
    "# n_outputs = y.shape[1] #n_outputs= 6"
   ]
  },
  {
   "cell_type": "code",
   "execution_count": null,
   "id": "37ae5e9c",
   "metadata": {},
   "outputs": [],
   "source": []
  },
  {
   "cell_type": "code",
   "execution_count": 18,
   "id": "aa2e312b",
   "metadata": {},
   "outputs": [],
   "source": [
    "from sklearn.model_selection import train_test_split\n",
    "# split data into training set and test set\n",
    "X_train_main, X_test, y_train_main, y_test = train_test_split(X, y,test_size=0.15, random_state=42)\n",
    "\n",
    "# split training set into training and validation set\n",
    "X_train, X_valid, y_train, y_valid = train_test_split(X_train_main,y_train_main,test_size=0.15,random_state=42)"
   ]
  },
  {
   "cell_type": "code",
   "execution_count": 19,
   "id": "7ee7903a",
   "metadata": {},
   "outputs": [
    {
     "name": "stdout",
     "output_type": "stream",
     "text": [
      "X_train (1555, 500, 18)\n",
      "y_train (1555, 6)\n",
      "y_valid (275, 6)\n",
      "X_valid (275, 500, 18)\n",
      "X_test (324, 500, 18)\n",
      "y_test (324, 6)\n"
     ]
    }
   ],
   "source": [
    "print(\"X_train\",X_train.shape)\n",
    "print(\"y_train\",y_train.shape)\n",
    "print(\"y_valid\",y_valid.shape)\n",
    "print(\"X_valid\",X_valid.shape)\n",
    "print(\"X_test\",X_test.shape)\n",
    "print(\"y_test\",y_test.shape)\n"
   ]
  },
  {
   "cell_type": "code",
   "execution_count": 20,
   "id": "21e41fba",
   "metadata": {},
   "outputs": [],
   "source": [
    "from sklearn.model_selection import train_test_split"
   ]
  },
  {
   "cell_type": "code",
   "execution_count": 21,
   "id": "053dd298",
   "metadata": {},
   "outputs": [
    {
     "name": "stderr",
     "output_type": "stream",
     "text": [
      "2023-12-05 13:52:20.655942: I tensorflow/core/util/port.cc:113] oneDNN custom operations are on. You may see slightly different numerical results due to floating-point round-off errors from different computation orders. To turn them off, set the environment variable `TF_ENABLE_ONEDNN_OPTS=0`.\n",
      "2023-12-05 13:52:21.419114: I external/local_tsl/tsl/cuda/cudart_stub.cc:31] Could not find cuda drivers on your machine, GPU will not be used.\n",
      "2023-12-05 13:52:23.641792: E external/local_xla/xla/stream_executor/cuda/cuda_dnn.cc:9261] Unable to register cuDNN factory: Attempting to register factory for plugin cuDNN when one has already been registered\n",
      "2023-12-05 13:52:23.643637: E external/local_xla/xla/stream_executor/cuda/cuda_fft.cc:607] Unable to register cuFFT factory: Attempting to register factory for plugin cuFFT when one has already been registered\n",
      "2023-12-05 13:52:23.846030: E external/local_xla/xla/stream_executor/cuda/cuda_blas.cc:1515] Unable to register cuBLAS factory: Attempting to register factory for plugin cuBLAS when one has already been registered\n",
      "2023-12-05 13:52:24.483592: I external/local_tsl/tsl/cuda/cudart_stub.cc:31] Could not find cuda drivers on your machine, GPU will not be used.\n",
      "2023-12-05 13:52:24.491831: I tensorflow/core/platform/cpu_feature_guard.cc:182] This TensorFlow binary is optimized to use available CPU instructions in performance-critical operations.\n",
      "To enable the following instructions: AVX2 AVX512F AVX512_VNNI FMA, in other operations, rebuild TensorFlow with the appropriate compiler flags.\n",
      "2023-12-05 13:52:41.637591: W tensorflow/compiler/tf2tensorrt/utils/py_utils.cc:38] TF-TRT Warning: Could not find TensorRT\n"
     ]
    }
   ],
   "source": [
    "from keras.models import Sequential\n",
    "from keras.layers import Dense\n",
    "from keras.layers import Flatten\n",
    "from keras.layers import Dropout\n",
    "from keras.layers import LSTM\n",
    "from keras.layers import TimeDistributed\n",
    "# from keras.layers.convolutional import Conv1D\n",
    "# from keras.layers.convolutional import MaxPooling1D\n",
    "from keras.layers import Conv1D  # Updated import\n",
    "from keras.layers import MaxPooling1D  # Updated import"
   ]
  },
  {
   "cell_type": "code",
   "execution_count": 22,
   "id": "b12d79e9",
   "metadata": {},
   "outputs": [],
   "source": [
    "from tensorflow.keras.models import Model\n",
    "from tensorflow.keras.layers import Concatenate, Input, Dense, TimeDistributed, Conv1D, Dropout, MaxPooling2D, Flatten, LSTM\n",
    "from tensorflow.keras.layers import LayerNormalization, MultiHeadAttention, GlobalAveragePooling3D\n"
   ]
  },
  {
   "cell_type": "code",
   "execution_count": 31,
   "id": "ea22c2d3",
   "metadata": {},
   "outputs": [
    {
     "name": "stdout",
     "output_type": "stream",
     "text": [
      "Model: \"model_6\"\n",
      "__________________________________________________________________________________________________\n",
      " Layer (type)                Output Shape                 Param #   Connected to                  \n",
      "==================================================================================================\n",
      " input_7 (InputLayer)        [(None, 500, 18)]            0         []                            \n",
      "                                                                                                  \n",
      " model_4 (Functional)        (None, 3016)                 1693297   ['input_7[0][0]']             \n",
      "                                                                                                  \n",
      " model_5 (Functional)        (None, 6)                    546310    ['input_7[0][0]']             \n",
      "                                                                                                  \n",
      " concatenate_4 (Concatenate  (None, 3022)                 0         ['model_4[0][0]',             \n",
      " )                                                                   'model_5[0][0]']             \n",
      "                                                                                                  \n",
      " dense_21 (Dense)            (None, 6)                    18138     ['concatenate_4[0][0]']       \n",
      "                                                                                                  \n",
      "==================================================================================================\n",
      "Total params: 2257745 (8.61 MB)\n",
      "Trainable params: 2257745 (8.61 MB)\n",
      "Non-trainable params: 0 (0.00 Byte)\n",
      "__________________________________________________________________________________________________\n"
     ]
    }
   ],
   "source": [
    "from tensorflow.keras.models import Model\n",
    "from tensorflow.keras.layers import Concatenate, Input, Dense, TimeDistributed, Conv1D, Dropout, MaxPooling1D, Flatten, LSTM, Bidirectional, Reshape, GlobalMaxPooling1D\n",
    "from tensorflow.keras.layers import LayerNormalization, MultiHeadAttention\n",
    "from tensorflow.keras.regularizers import l2\n",
    "from tensorflow.keras.callbacks import ReduceLROnPlateau\n",
    "from tensorflow.keras.optimizers import Adam\n",
    "from tensorflow.keras import layers, models\n",
    "\n",
    "# Assuming your segment shape is (128, 18)\n",
    "input_shape = (500, 18)\n",
    "n_outputs = 6  # Replace with your actual number of output classes\n",
    "\n",
    "def create_cnn_transformer_model(input_shape):\n",
    "    input_layer = Input(shape=input_shape)\n",
    "\n",
    "    # 1D CNN Branch\n",
    "    cnn_branch = Conv1D(filters=64, kernel_size=14, activation='relu')(input_layer)\n",
    "    cnn_branch = Conv1D(filters=32, kernel_size=10, activation='relu')(cnn_branch)\n",
    "    cnn_branch = Conv1D(filters=16, kernel_size=10, activation='relu')(cnn_branch)\n",
    "    cnn_branch = Dropout(0.2)(cnn_branch)\n",
    "    cnn_branch = MaxPooling1D(pool_size=2)(cnn_branch)\n",
    "    cnn_branch = GlobalMaxPooling1D()(cnn_branch)  # Use GlobalMaxPooling1D to reduce dimensions\n",
    "\n",
    "    # Transformer Encoder Branch\n",
    "    transformer_branch = LayerNormalization(epsilon=1e-6)(input_layer)\n",
    "\n",
    "    num_transformer_blocks = 3\n",
    "    d_model = 128\n",
    "    num_heads = 6\n",
    "    ffn_units = 1012\n",
    "    ff_dim = 245\n",
    "    mlp_dropout = 0.3\n",
    "    dropout_rate = 0.2\n",
    "\n",
    "    for _ in range(num_transformer_blocks):\n",
    "        transformer_branch = MultiHeadAttention(key_dim=d_model, num_heads=num_heads, dropout=dropout_rate)(transformer_branch, transformer_branch)\n",
    "        transformer_branch = Dropout(dropout_rate)(transformer_branch)\n",
    "\n",
    "        transformer_branch = TimeDistributed(Dense(64, activation=\"relu\"))(transformer_branch)  # Adjust the dimension as needed\n",
    "        transformer_branch = Conv1D(filters=ff_dim, kernel_size=1, activation='relu')(transformer_branch)\n",
    "        transformer_branch = Dropout(mlp_dropout)(transformer_branch)\n",
    "        transformer_branch = LayerNormalization(epsilon=1e-6)(transformer_branch + transformer_branch)\n",
    "\n",
    "    transformer_branch = Dense(6, activation=\"relu\")(transformer_branch)\n",
    "\n",
    "    # Flatten both branches\n",
    "    cnn_branch_flatten = Flatten()(cnn_branch)\n",
    "    transformer_branch_flatten = Flatten()(transformer_branch)\n",
    "\n",
    "    # Combine CNN and Transformer branches\n",
    "    merged = Concatenate(axis=-1)([cnn_branch_flatten, transformer_branch_flatten])\n",
    "\n",
    "    return Model(inputs=input_layer, outputs=merged)\n",
    "\n",
    "def create_bilstm_model(input_shape, n_outputs):\n",
    "    input_layer = Input(shape=input_shape)\n",
    "\n",
    "    # BiLSTM Branch\n",
    "    bilstm_branch = Bidirectional(LSTM(128, return_sequences=True, dropout=0.2, recurrent_dropout=0.2))(input_layer)\n",
    "    bilstm_branch = Bidirectional(LSTM(128, return_sequences=False, dropout=0.2, recurrent_dropout=0.2))(bilstm_branch)\n",
    "    bilstm_output = layers.Dense(352, activation='relu')(bilstm_branch)\n",
    "    bilstm_output = layers.Dense(100, activation='relu')(bilstm_output)\n",
    "    bilstm_output = layers.Dense(32, activation='relu')(bilstm_output)\n",
    "\n",
    "    # Output Layer\n",
    "    output_layer = Dense(n_outputs, activation='softmax')(bilstm_branch)\n",
    "\n",
    "    return Model(inputs=input_layer, outputs=output_layer)\n",
    "\n",
    "def create_combined_model(input_shape, n_outputs=n_outputs):\n",
    "    input_layer = Input(shape=input_shape)\n",
    "\n",
    "    # CNN + Transformer Branch\n",
    "    cnn_transformer_model = create_cnn_transformer_model(input_shape)\n",
    "    cnn_transformer_output = cnn_transformer_model(input_layer)\n",
    "\n",
    "    # BiLSTM Branch\n",
    "    bilstm_model = create_bilstm_model(input_shape, n_outputs)\n",
    "    bilstm_output = bilstm_model(input_layer)\n",
    "    \n",
    "    # Concatenate the outputs of both branches\n",
    "    merged = Concatenate(axis=-1)([cnn_transformer_output, bilstm_output])\n",
    "\n",
    "    # Shared output layer\n",
    "    output_layer = Dense(n_outputs, activation='softmax')(merged)\n",
    "\n",
    "    # Create the final model\n",
    "    model = Model(inputs=input_layer, outputs=output_layer)\n",
    "\n",
    "    # Compile the model with the desired optimizer, loss, and metrics\n",
    "    model.compile(optimizer=Adam(learning_rate=0.001), loss='categorical_crossentropy', metrics=['accuracy'])\n",
    "\n",
    "    return model\n",
    "\n",
    "# Define the learning rate reduction callback\n",
    "reduce_lr = ReduceLROnPlateau(monitor='val_loss', factor=0.2, patience=3, min_lr=1e-6)\n",
    "\n",
    "# Create the combined model\n",
    "combined_model = create_combined_model(input_shape, n_outputs)\n",
    "\n",
    "# Display the summary of the combined model\n",
    "combined_model.summary()\n"
   ]
  },
  {
   "cell_type": "code",
   "execution_count": 32,
   "id": "024a0364",
   "metadata": {},
   "outputs": [
    {
     "name": "stdout",
     "output_type": "stream",
     "text": [
      "Epoch 1/25\n",
      "49/49 [==============================] - 101s 2s/step - loss: 1.3967 - accuracy: 0.4527 - val_loss: 0.9288 - val_accuracy: 0.6727 - lr: 0.0010\n",
      "Epoch 2/25\n",
      "49/49 [==============================] - 87s 2s/step - loss: 0.7568 - accuracy: 0.7344 - val_loss: 0.6360 - val_accuracy: 0.7673 - lr: 0.0010\n",
      "Epoch 3/25\n",
      "49/49 [==============================] - 88s 2s/step - loss: 0.5221 - accuracy: 0.8212 - val_loss: 0.4622 - val_accuracy: 0.8255 - lr: 0.0010\n",
      "Epoch 4/25\n",
      "49/49 [==============================] - 87s 2s/step - loss: 0.3677 - accuracy: 0.8752 - val_loss: 0.3864 - val_accuracy: 0.8873 - lr: 0.0010\n",
      "Epoch 5/25\n",
      "49/49 [==============================] - 87s 2s/step - loss: 0.3144 - accuracy: 0.8855 - val_loss: 0.3415 - val_accuracy: 0.8764 - lr: 0.0010\n",
      "Epoch 6/25\n",
      "49/49 [==============================] - 87s 2s/step - loss: 0.2927 - accuracy: 0.8945 - val_loss: 0.3143 - val_accuracy: 0.9055 - lr: 0.0010\n",
      "Epoch 7/25\n",
      "49/49 [==============================] - 87s 2s/step - loss: 0.1977 - accuracy: 0.9395 - val_loss: 0.2738 - val_accuracy: 0.9091 - lr: 0.0010\n",
      "Epoch 8/25\n",
      "49/49 [==============================] - 87s 2s/step - loss: 0.1738 - accuracy: 0.9505 - val_loss: 0.2620 - val_accuracy: 0.9127 - lr: 0.0010\n",
      "Epoch 9/25\n",
      "49/49 [==============================] - 87s 2s/step - loss: 0.1914 - accuracy: 0.9350 - val_loss: 0.2797 - val_accuracy: 0.9127 - lr: 0.0010\n",
      "Epoch 10/25\n",
      "49/49 [==============================] - 87s 2s/step - loss: 0.1317 - accuracy: 0.9582 - val_loss: 0.2183 - val_accuracy: 0.9455 - lr: 0.0010\n",
      "Epoch 11/25\n",
      "49/49 [==============================] - 87s 2s/step - loss: 0.0997 - accuracy: 0.9646 - val_loss: 0.2303 - val_accuracy: 0.9418 - lr: 0.0010\n",
      "Epoch 12/25\n",
      "49/49 [==============================] - 87s 2s/step - loss: 0.1220 - accuracy: 0.9621 - val_loss: 0.2895 - val_accuracy: 0.9127 - lr: 0.0010\n",
      "Epoch 13/25\n",
      "49/49 [==============================] - 87s 2s/step - loss: 0.1336 - accuracy: 0.9563 - val_loss: 0.2306 - val_accuracy: 0.9236 - lr: 0.0010\n",
      "Epoch 14/25\n",
      "49/49 [==============================] - 87s 2s/step - loss: 0.0721 - accuracy: 0.9788 - val_loss: 0.1991 - val_accuracy: 0.9309 - lr: 2.0000e-04\n",
      "Epoch 15/25\n",
      "49/49 [==============================] - 87s 2s/step - loss: 0.0469 - accuracy: 0.9871 - val_loss: 0.1908 - val_accuracy: 0.9345 - lr: 2.0000e-04\n",
      "Epoch 16/25\n",
      "49/49 [==============================] - 87s 2s/step - loss: 0.0442 - accuracy: 0.9871 - val_loss: 0.1964 - val_accuracy: 0.9345 - lr: 2.0000e-04\n",
      "Epoch 17/25\n",
      "49/49 [==============================] - 87s 2s/step - loss: 0.0406 - accuracy: 0.9871 - val_loss: 0.1949 - val_accuracy: 0.9309 - lr: 2.0000e-04\n",
      "Epoch 18/25\n",
      "49/49 [==============================] - 87s 2s/step - loss: 0.0423 - accuracy: 0.9904 - val_loss: 0.1977 - val_accuracy: 0.9273 - lr: 2.0000e-04\n",
      "Epoch 19/25\n",
      "49/49 [==============================] - 87s 2s/step - loss: 0.0345 - accuracy: 0.9923 - val_loss: 0.1917 - val_accuracy: 0.9345 - lr: 4.0000e-05\n",
      "Epoch 20/25\n",
      "49/49 [==============================] - 87s 2s/step - loss: 0.0331 - accuracy: 0.9910 - val_loss: 0.1916 - val_accuracy: 0.9382 - lr: 4.0000e-05\n",
      "Epoch 21/25\n",
      "49/49 [==============================] - 87s 2s/step - loss: 0.0317 - accuracy: 0.9936 - val_loss: 0.1920 - val_accuracy: 0.9382 - lr: 4.0000e-05\n",
      "Epoch 22/25\n",
      "49/49 [==============================] - 87s 2s/step - loss: 0.0312 - accuracy: 0.9923 - val_loss: 0.1919 - val_accuracy: 0.9382 - lr: 8.0000e-06\n",
      "Epoch 23/25\n",
      "49/49 [==============================] - 87s 2s/step - loss: 0.0307 - accuracy: 0.9923 - val_loss: 0.1917 - val_accuracy: 0.9382 - lr: 8.0000e-06\n",
      "Epoch 24/25\n",
      "49/49 [==============================] - 87s 2s/step - loss: 0.0313 - accuracy: 0.9936 - val_loss: 0.1917 - val_accuracy: 0.9382 - lr: 8.0000e-06\n",
      "Epoch 25/25\n",
      "49/49 [==============================] - 87s 2s/step - loss: 0.0314 - accuracy: 0.9929 - val_loss: 0.1916 - val_accuracy: 0.9382 - lr: 1.6000e-06\n"
     ]
    }
   ],
   "source": [
    "\n",
    "\n",
    "# Training the combined model\n",
    "history = combined_model.fit(\n",
    "    X_train,\n",
    "    y_train,\n",
    "    epochs=25,\n",
    "    batch_size=32,\n",
    "    validation_data=(X_valid, y_valid),\n",
    "    callbacks=[reduce_lr]\n",
    ")\n"
   ]
  },
  {
   "cell_type": "code",
   "execution_count": 33,
   "id": "467a81bb",
   "metadata": {},
   "outputs": [
    {
     "name": "stdout",
     "output_type": "stream",
     "text": [
      "11/11 [==============================] - 4s 393ms/step - loss: 0.1010 - accuracy: 0.9691\n",
      "Test Loss: 0.10104167461395264, Test Accuracy: 0.9691358208656311\n"
     ]
    }
   ],
   "source": [
    "# Evaluate the model on the test set\n",
    "test_loss, test_accuracy = combined_model.evaluate(X_test, y_test)\n",
    "print(f\"Test Loss: {test_loss}, Test Accuracy: {test_accuracy}\")"
   ]
  },
  {
   "cell_type": "code",
   "execution_count": 34,
   "id": "83ba7d3e",
   "metadata": {},
   "outputs": [],
   "source": [
    "def plot_learningCurve(history, epochs):\n",
    "  # Plot training & validation accuracy values\n",
    "  epoch_range = range(1, epochs+1)\n",
    "  plt.plot(epoch_range, history.history['accuracy'])\n",
    "  plt.plot(epoch_range, history.history['val_accuracy'])\n",
    "  plt.title('Model accuracy')\n",
    "  plt.ylabel('Accuracy')\n",
    "  plt.xlabel('Epoch')\n",
    "  plt.legend(['Train', 'Val'], loc='upper left')\n",
    "  plt.show()\n",
    "\n",
    "  # Plot training & validation loss values\n",
    "  plt.plot(epoch_range, history.history['loss'])\n",
    "  plt.plot(epoch_range, history.history['val_loss'])\n",
    "  plt.title('Model loss')\n",
    "  plt.ylabel('Loss')\n",
    "  plt.xlabel('Epoch')\n",
    "  plt.legend(['Train', 'Val'], loc='upper left')\n",
    "  plt.show()"
   ]
  },
  {
   "cell_type": "code",
   "execution_count": 35,
   "id": "4522b995",
   "metadata": {},
   "outputs": [
    {
     "data": {
      "image/png": "[encoded data removed]",
      "text/plain": [
       "<Figure size 432x288 with 1 Axes>"
      ]
     },
     "metadata": {},
     "output_type": "display_data"
    },
    {
     "data": {
      "image/png": "[encoded data removed]",
      "text/plain": [
       "<Figure size 432x288 with 1 Axes>"
      ]
     },
     "metadata": {},
     "output_type": "display_data"
    }
   ],
   "source": [
    "plot_learningCurve(history, 25)"
   ]
  },
  {
   "cell_type": "code",
   "execution_count": 36,
   "id": "0efe552b",
   "metadata": {},
   "outputs": [
    {
     "name": "stdout",
     "output_type": "stream",
     "text": [
      "11/11 [==============================] - 14s 1s/step\n"
     ]
    },
    {
     "data": {
      "text/plain": [
       "(array([[9.9104691e-06, 9.9996209e-01, 2.7880396e-05, 7.1872637e-09,\n",
       "         4.1015813e-09, 6.7970362e-08],\n",
       "        [2.0293203e-04, 2.3451827e-03, 9.9733174e-01, 4.4815133e-05,\n",
       "         1.9884592e-06, 7.3349293e-05],\n",
       "        [9.9747854e-01, 7.1063037e-11, 1.2628164e-10, 1.0646493e-06,\n",
       "         5.9659913e-04, 1.9238529e-03]], dtype=float32),)"
      ]
     },
     "execution_count": 36,
     "metadata": {},
     "output_type": "execute_result"
    }
   ],
   "source": [
    "# Make Predictions on test \n",
    "y_preds_test = combined_model.predict(X_test) #class Prediction \n",
    "\n",
    "y_preds_test[:3], #y_probs_test[:5]"
   ]
  },
  {
   "cell_type": "code",
   "execution_count": 37,
   "id": "5bd42dd7",
   "metadata": {},
   "outputs": [
    {
     "data": {
      "text/plain": [
       "array([[0., 1., 0., 0., 0., 0.],\n",
       "       [0., 0., 1., 0., 0., 0.],\n",
       "       [1., 0., 0., 0., 0., 0.],\n",
       "       [0., 0., 1., 0., 0., 0.],\n",
       "       [0., 0., 0., 0., 1., 0.]], dtype=float32)"
      ]
     },
     "execution_count": 37,
     "metadata": {},
     "output_type": "execute_result"
    }
   ],
   "source": [
    "y_test[:5,]"
   ]
  },
  {
   "cell_type": "code",
   "execution_count": 38,
   "id": "4abe3fd7",
   "metadata": {},
   "outputs": [
    {
     "data": {
      "text/plain": [
       "((324,), (324, 6))"
      ]
     },
     "execution_count": 38,
     "metadata": {},
     "output_type": "execute_result"
    }
   ],
   "source": [
    "y_pred_test=np.argmax(y_preds_test,axis=1) \n",
    "y_true_test=np.argmax(y_test,axis=1) \n",
    "\n",
    "y_true_test.shape, y_test.shape"
   ]
  },
  {
   "cell_type": "code",
   "execution_count": 39,
   "id": "c0573cb0",
   "metadata": {},
   "outputs": [
    {
     "name": "stdout",
     "output_type": "stream",
     "text": [
      "Test  acc : 0.9691358024691358\n",
      "\n",
      " -------------Classification Report-------------\n",
      "\n",
      "              precision    recall  f1-score   support\n",
      "\n",
      "           0       0.98      0.97      0.97        90\n",
      "           1       0.94      0.97      0.96        68\n",
      "           2       1.00      0.98      0.99        86\n",
      "           3       1.00      0.97      0.98        30\n",
      "           4       0.97      0.97      0.97        36\n",
      "           5       0.81      0.93      0.87        14\n",
      "\n",
      "    accuracy                           0.97       324\n",
      "   macro avg       0.95      0.96      0.96       324\n",
      "weighted avg       0.97      0.97      0.97       324\n",
      "\n"
     ]
    }
   ],
   "source": [
    "### Evaluate Model using accuracy \n",
    "from sklearn.metrics import accuracy_score,classification_report\n",
    "print(\"Test  acc : {}\".format(accuracy_score(y_true_test, y_pred_test)))\n",
    "print(\"\\n -------------Classification Report-------------\\n\")\n",
    "print(classification_report(y_true_test, y_pred_test))"
   ]
  },
  {
   "cell_type": "code",
   "execution_count": 40,
   "id": "8842bc0d",
   "metadata": {},
   "outputs": [
    {
     "name": "stdout",
     "output_type": "stream",
     "text": [
      "11/11 [==============================] - 13s 1s/step\n"
     ]
    },
    {
     "data": {
      "text/plain": [
       "((324,), (324,))"
      ]
     },
     "execution_count": 40,
     "metadata": {},
     "output_type": "execute_result"
    }
   ],
   "source": [
    "y_pred_test = combined_model.predict(X_test) #class Prediction \n",
    "\n",
    "y_pred_test=np.argmax(y_pred_test,axis=1) \n",
    "y_true_test=np.argmax(y_test,axis=1) \n",
    "\n",
    "y_true_test.shape, y_pred_test.shape"
   ]
  },
  {
   "cell_type": "code",
   "execution_count": 41,
   "id": "d9112c81",
   "metadata": {},
   "outputs": [
    {
     "name": "stdout",
     "output_type": "stream",
     "text": [
      "[[87  2  0  0  0  1]\n",
      " [ 2 66  0  0  0  0]\n",
      " [ 0  2 84  0  0  0]\n",
      " [ 0  0  0 29  0  1]\n",
      " [ 0  0  0  0 35  1]\n",
      " [ 0  0  0  0  1 13]]\n",
      "0.9691358024691358\n",
      "              precision    recall  f1-score   support\n",
      "\n",
      "           0       0.98      0.97      0.97        90\n",
      "           1       0.94      0.97      0.96        68\n",
      "           2       1.00      0.98      0.99        86\n",
      "           3       1.00      0.97      0.98        30\n",
      "           4       0.97      0.97      0.97        36\n",
      "           5       0.81      0.93      0.87        14\n",
      "\n",
      "    accuracy                           0.97       324\n",
      "   macro avg       0.95      0.96      0.96       324\n",
      "weighted avg       0.97      0.97      0.97       324\n",
      "\n"
     ]
    }
   ],
   "source": [
    "import seaborn as sns\n",
    "import sklearn.metrics as skm\n",
    "import matplotlib.pyplot as plt\n",
    "from sklearn.metrics import accuracy_score as acc\n",
    "from sklearn.metrics import confusion_matrix,classification_report\n",
    "cm=confusion_matrix(y_true_test,y_pred_test)\n",
    "print(cm)\n",
    "print(acc(y_true_test,y_pred_test))\n",
    "print(classification_report(y_true_test,y_pred_test))"
   ]
  },
  {
   "cell_type": "code",
   "execution_count": 42,
   "id": "685e4cbc",
   "metadata": {},
   "outputs": [],
   "source": [
    "cf=np.empty((6,6))\n",
    "for i in range(6):\n",
    "    cf[i]=(cm[i]/np.sum(cm[i]))"
   ]
  },
  {
   "cell_type": "code",
   "execution_count": 43,
   "id": "9cd87fc6",
   "metadata": {},
   "outputs": [],
   "source": [
    "# group_counts = [\"{0:.0f}\".format(value) for value in cm.flatten()]\n",
    "group_percentages = [\"{0:.2%}\".format(value) for value in cf.flatten()]\n",
    "labels = [f\"{v1}\" for v1 in group_percentages]\n",
    "labels = np.asarray(labels).reshape(6,6)"
   ]
  },
  {
   "cell_type": "code",
   "execution_count": 44,
   "id": "6efca9ed",
   "metadata": {},
   "outputs": [
    {
     "data": {
      "image/png": "[encoded data removed]",
      "text/plain": [
       "<Figure size 720x504 with 2 Axes>"
      ]
     },
     "metadata": {},
     "output_type": "display_data"
    }
   ],
   "source": [
    "fig = plt.figure(figsize=(10,7))\n",
    "ax=fig.add_subplot(111)\n",
    "#sns.heatmap(cm, annot=labels,fmt=\"\",cmap='RdYlBu_r',ax=ax)\n",
    "sns.heatmap(cm, annot=labels,fmt=\"\",cmap='Spectral_r',ax=ax)\n",
    "ax.set_xlabel(\"Predicted Labels\\n\\n Overall_accuracy=\"\"{0:.2%}\".format((acc(y_true_test,y_pred_test))),size=14)\n",
    "ax.set_ylabel(\"True Labels\",size=14)\n",
    "ax.set_title(\"Confusion Matrix\",size=14)\n",
    "ax.xaxis.set_ticklabels(['Downstairs','Walking','Upstairs','Sitting','Laying','Standing'])\n",
    "ax.yaxis.set_ticklabels(['Downstairs','Walking','Upstairs','Sitting','Laying','Standing'])\n",
    "plt.savefig('ConfusionMatrix_smart belt',dpi=1200, bbox_inches='tight')"
   ]
  }
 ],
 "metadata": {
  "kernelspec": {
   "display_name": "Python 3",
   "language": "python",
   "name": "python3"
  },
  "language_info": {
   "codemirror_mode": {
    "name": "ipython",
    "version": 3
   },
   "file_extension": ".py",
   "mimetype": "text/x-python",
   "name": "python",
   "nbconvert_exporter": "python",
   "pygments_lexer": "ipython3",
   "version": "3.9.12"
  }
 },
 "nbformat": 4,
 "nbformat_minor": 5
}
