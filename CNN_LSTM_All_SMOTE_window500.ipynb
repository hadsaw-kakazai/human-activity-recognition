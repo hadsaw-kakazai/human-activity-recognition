{
 "cells": [
  {
   "cell_type": "markdown",
   "metadata": {},
   "source": [
    "## Ensemble Hybrid deep learning model for Belt sensor Dataset"
   ]
  },
  {
   "cell_type": "code",
   "execution_count": 73,
   "metadata": {},
   "outputs": [],
   "source": [
    "### Random Seed\n",
    "from numpy.random import seed\n",
    "seed(1)"
   ]
  },
  {
   "cell_type": "markdown",
   "metadata": {},
   "source": [
    "###   Models"
   ]
  },
  {
   "cell_type": "code",
   "execution_count": 74,
   "metadata": {},
   "outputs": [],
   "source": [
    "from matplotlib import pyplot as plt\n",
    "import numpy as np\n",
    "import pandas as pd\n",
    "import seaborn as sns\n",
    "import pathlib\n",
    "import csv"
   ]
  },
  {
   "cell_type": "code",
   "execution_count": 22,
   "metadata": {},
   "outputs": [],
   "source": [
    "# Read dataset\n",
    "#df1 = pd.read_csv('Belt_sensor_1stbatch.csv')\n",
    "#df2 = pd.read_csv('belt_sensor_2ndbatch.csv')\n",
    "#df=pd.concat([df1,df2],axis=0)\n",
    "df.to_csv('belt_sensor_all.csv')"
   ]
  },
  {
   "cell_type": "code",
   "execution_count": 75,
   "metadata": {},
   "outputs": [
    {
     "name": "stdout",
     "output_type": "stream",
     "text": [
      "(108170, 22)\n"
     ]
    },
    {
     "data": {
      "text/html": [
       "<div>\n",
       "<style scoped>\n",
       "    .dataframe tbody tr th:only-of-type {\n",
       "        vertical-align: middle;\n",
       "    }\n",
       "\n",
       "    .dataframe tbody tr th {\n",
       "        vertical-align: top;\n",
       "    }\n",
       "\n",
       "    .dataframe thead th {\n",
       "        text-align: right;\n",
       "    }\n",
       "</style>\n",
       "<table border=\"1\" class=\"dataframe\">\n",
       "  <thead>\n",
       "    <tr style=\"text-align: right;\">\n",
       "      <th></th>\n",
       "      <th>Unnamed: 0</th>\n",
       "      <th>Pid</th>\n",
       "      <th>timestamp</th>\n",
       "      <th>S1_Ax</th>\n",
       "      <th>S1_Ay</th>\n",
       "      <th>S1_Az</th>\n",
       "      <th>S1_Gx</th>\n",
       "      <th>S1_Gy</th>\n",
       "      <th>S1_Gz</th>\n",
       "      <th>S2_Ax</th>\n",
       "      <th>...</th>\n",
       "      <th>S2_Gx</th>\n",
       "      <th>S2_Gy</th>\n",
       "      <th>S2_Gz</th>\n",
       "      <th>S3_Ax</th>\n",
       "      <th>S3_Ay</th>\n",
       "      <th>S3_Az</th>\n",
       "      <th>S3_Gx</th>\n",
       "      <th>S3_Gy</th>\n",
       "      <th>S3_Gz</th>\n",
       "      <th>Label</th>\n",
       "    </tr>\n",
       "  </thead>\n",
       "  <tbody>\n",
       "    <tr>\n",
       "      <th>0</th>\n",
       "      <td>0</td>\n",
       "      <td>P1_BS</td>\n",
       "      <td>3.00</td>\n",
       "      <td>-84.23</td>\n",
       "      <td>-994.63</td>\n",
       "      <td>8.06</td>\n",
       "      <td>-0.37</td>\n",
       "      <td>-2.62</td>\n",
       "      <td>1.65</td>\n",
       "      <td>311.28</td>\n",
       "      <td>...</td>\n",
       "      <td>2.08</td>\n",
       "      <td>-3.23</td>\n",
       "      <td>-4.33</td>\n",
       "      <td>-68.12</td>\n",
       "      <td>-970.46</td>\n",
       "      <td>150.15</td>\n",
       "      <td>1.83</td>\n",
       "      <td>0.24</td>\n",
       "      <td>0.61</td>\n",
       "      <td>Downstairs</td>\n",
       "    </tr>\n",
       "    <tr>\n",
       "      <th>1</th>\n",
       "      <td>1</td>\n",
       "      <td>P1_BS</td>\n",
       "      <td>3.01</td>\n",
       "      <td>-86.43</td>\n",
       "      <td>-1004.15</td>\n",
       "      <td>16.85</td>\n",
       "      <td>-0.18</td>\n",
       "      <td>-3.17</td>\n",
       "      <td>0.85</td>\n",
       "      <td>301.76</td>\n",
       "      <td>...</td>\n",
       "      <td>6.77</td>\n",
       "      <td>3.05</td>\n",
       "      <td>-3.78</td>\n",
       "      <td>-73.24</td>\n",
       "      <td>-978.52</td>\n",
       "      <td>140.62</td>\n",
       "      <td>0.55</td>\n",
       "      <td>-0.24</td>\n",
       "      <td>0.31</td>\n",
       "      <td>Downstairs</td>\n",
       "    </tr>\n",
       "  </tbody>\n",
       "</table>\n",
       "<p>2 rows × 22 columns</p>\n",
       "</div>"
      ],
      "text/plain": [
       "   Unnamed: 0    Pid  timestamp  S1_Ax    S1_Ay  S1_Az  S1_Gx  S1_Gy  S1_Gz  \\\n",
       "0           0  P1_BS       3.00 -84.23  -994.63   8.06  -0.37  -2.62   1.65   \n",
       "1           1  P1_BS       3.01 -86.43 -1004.15  16.85  -0.18  -3.17   0.85   \n",
       "\n",
       "    S2_Ax  ...  S2_Gx  S2_Gy  S2_Gz  S3_Ax   S3_Ay   S3_Az  S3_Gx  S3_Gy  \\\n",
       "0  311.28  ...   2.08  -3.23  -4.33 -68.12 -970.46  150.15   1.83   0.24   \n",
       "1  301.76  ...   6.77   3.05  -3.78 -73.24 -978.52  140.62   0.55  -0.24   \n",
       "\n",
       "   S3_Gz       Label  \n",
       "0   0.61  Downstairs  \n",
       "1   0.31  Downstairs  \n",
       "\n",
       "[2 rows x 22 columns]"
      ]
     },
     "execution_count": 75,
     "metadata": {},
     "output_type": "execute_result"
    }
   ],
   "source": [
    "df = pd.read_csv('belt_sensor_all.csv')\n",
    "print(df.shape)\n",
    "df.head(2)"
   ]
  },
  {
   "cell_type": "code",
   "execution_count": 76,
   "metadata": {},
   "outputs": [
    {
     "data": {
      "text/plain": [
       "Pid\n",
       "P1_BS            12278\n",
       "P2_BS            13016\n",
       "P3_BS            13016\n",
       "P4_BS            12946\n",
       "P5_BS            13016\n",
       "p10_all_BS123     8825\n",
       "p11_all_BS123     8598\n",
       "p6_all_BS123      8825\n",
       "p7_all_BS123      8825\n",
       "p8_all_BS123      8825\n",
       "dtype: int64"
      ]
     },
     "execution_count": 76,
     "metadata": {},
     "output_type": "execute_result"
    }
   ],
   "source": [
    "df.groupby('Pid').size()"
   ]
  },
  {
   "cell_type": "code",
   "execution_count": 77,
   "metadata": {},
   "outputs": [],
   "source": [
    "### Low Pass filter \n",
    "from scipy import signal\n",
    "def butter_lowpass(cutoff, nyq_freq, order=4):\n",
    "    normal_cutoff = float(cutoff) / nyq_freq\n",
    "    b, a = signal.butter(order, normal_cutoff, btype='lowpass')\n",
    "    return b, a\n",
    "\n",
    "def butter_lowpass_filter(data, cutoff_freq, nyq_freq, order=4):\n",
    "    b, a = butter_lowpass(cutoff_freq, nyq_freq, order=order)\n",
    "    y = signal.filtfilt(b, a, data)\n",
    "    return y"
   ]
  },
  {
   "cell_type": "code",
   "execution_count": 78,
   "metadata": {},
   "outputs": [],
   "source": [
    "#low pass filter\n",
    "lowpass_filtred=[]\n",
    "dfm=df[['S1_Ax', 'S1_Ay', 'S1_Az', 'S1_Gx', 'S1_Gy','S1_Gz', 'S2_Ax', 'S2_Ay', 'S2_Az', 'S2_Gx', 'S2_Gy', 'S2_Gz', 'S3_Ax',\n",
    "       'S3_Ay', 'S3_Az', 'S3_Gx', 'S3_Gy', 'S3_Gz']]\n",
    "for column in dfm.columns:# iterate over each column in raw_df\n",
    "    cutoff_frequency = 15.0\n",
    "    sample_rate=100\n",
    "    t_signal=np.array(dfm[column]) #copie the signal values in 1D numpy array\n",
    "    y = butter_lowpass_filter(t_signal,cutoff_frequency,sample_rate/2) \n",
    "    lowpass_filtred.append(y)\n",
    "lowpass=pd.DataFrame(lowpass_filtred)\n",
    "lowpass=lowpass.T\n",
    "lowpass.columns=['S1_Ax', 'S1_Ay', 'S1_Az', 'S1_Gx', 'S1_Gy','S1_Gz', 'S2_Ax', 'S2_Ay', 'S2_Az', 'S2_Gx', 'S2_Gy', 'S2_Gz', 'S3_Ax',\n",
    "       'S3_Ay', 'S3_Az', 'S3_Gx', 'S3_Gy', 'S3_Gz']\n",
    "df1=df[['Pid','timestamp']]\n",
    "df_filtred=pd.concat([df1,lowpass],axis=1)\n",
    "df_filtred['Label']=df['Label']"
   ]
  },
  {
   "cell_type": "code",
   "execution_count": 79,
   "metadata": {},
   "outputs": [
    {
     "data": {
      "text/plain": [
       "Label\n",
       "Upstairs      29345\n",
       "Downstairs    25030\n",
       "Walking       19440\n",
       "Standing      12180\n",
       "Sitting       11265\n",
       "Laying        10910\n",
       "Name: count, dtype: int64"
      ]
     },
     "execution_count": 79,
     "metadata": {},
     "output_type": "execute_result"
    }
   ],
   "source": [
    "df_filtred['Label'].value_counts()"
   ]
  },
  {
   "cell_type": "code",
   "execution_count": 80,
   "metadata": {},
   "outputs": [],
   "source": [
    "from imblearn.over_sampling import SMOTE"
   ]
  },
  {
   "cell_type": "code",
   "execution_count": 81,
   "metadata": {},
   "outputs": [
    {
     "name": "stdout",
     "output_type": "stream",
     "text": [
      "(176070, 19)\n"
     ]
    },
    {
     "data": {
      "text/html": [
       "<div>\n",
       "<style scoped>\n",
       "    .dataframe tbody tr th:only-of-type {\n",
       "        vertical-align: middle;\n",
       "    }\n",
       "\n",
       "    .dataframe tbody tr th {\n",
       "        vertical-align: top;\n",
       "    }\n",
       "\n",
       "    .dataframe thead th {\n",
       "        text-align: right;\n",
       "    }\n",
       "</style>\n",
       "<table border=\"1\" class=\"dataframe\">\n",
       "  <thead>\n",
       "    <tr style=\"text-align: right;\">\n",
       "      <th></th>\n",
       "      <th>S1_Ax</th>\n",
       "      <th>S1_Ay</th>\n",
       "      <th>S1_Az</th>\n",
       "      <th>S1_Gx</th>\n",
       "      <th>S1_Gy</th>\n",
       "      <th>S1_Gz</th>\n",
       "      <th>S2_Ax</th>\n",
       "      <th>S2_Ay</th>\n",
       "      <th>S2_Az</th>\n",
       "      <th>S2_Gx</th>\n",
       "      <th>S2_Gy</th>\n",
       "      <th>S2_Gz</th>\n",
       "      <th>S3_Ax</th>\n",
       "      <th>S3_Ay</th>\n",
       "      <th>S3_Az</th>\n",
       "      <th>S3_Gx</th>\n",
       "      <th>S3_Gy</th>\n",
       "      <th>S3_Gz</th>\n",
       "      <th>Label</th>\n",
       "    </tr>\n",
       "  </thead>\n",
       "  <tbody>\n",
       "    <tr>\n",
       "      <th>0</th>\n",
       "      <td>-84.222490</td>\n",
       "      <td>-994.627346</td>\n",
       "      <td>8.055153</td>\n",
       "      <td>-0.370396</td>\n",
       "      <td>-2.620791</td>\n",
       "      <td>1.649596</td>\n",
       "      <td>311.291489</td>\n",
       "      <td>-1061.332673</td>\n",
       "      <td>81.294603</td>\n",
       "      <td>2.077435</td>\n",
       "      <td>-3.234044</td>\n",
       "      <td>-4.329407</td>\n",
       "      <td>-68.121248</td>\n",
       "      <td>-970.461276</td>\n",
       "      <td>150.138268</td>\n",
       "      <td>1.829730</td>\n",
       "      <td>0.240081</td>\n",
       "      <td>0.610366</td>\n",
       "      <td>Downstairs</td>\n",
       "    </tr>\n",
       "    <tr>\n",
       "      <th>1</th>\n",
       "      <td>-88.069874</td>\n",
       "      <td>-998.773910</td>\n",
       "      <td>11.651440</td>\n",
       "      <td>-0.282880</td>\n",
       "      <td>-3.161370</td>\n",
       "      <td>0.810362</td>\n",
       "      <td>301.127326</td>\n",
       "      <td>-1027.592784</td>\n",
       "      <td>86.576920</td>\n",
       "      <td>6.452058</td>\n",
       "      <td>2.962058</td>\n",
       "      <td>-3.769370</td>\n",
       "      <td>-70.387323</td>\n",
       "      <td>-977.643665</td>\n",
       "      <td>146.687971</td>\n",
       "      <td>0.477777</td>\n",
       "      <td>-0.317638</td>\n",
       "      <td>0.282808</td>\n",
       "      <td>Downstairs</td>\n",
       "    </tr>\n",
       "  </tbody>\n",
       "</table>\n",
       "</div>"
      ],
      "text/plain": [
       "       S1_Ax       S1_Ay      S1_Az     S1_Gx     S1_Gy     S1_Gz       S2_Ax  \\\n",
       "0 -84.222490 -994.627346   8.055153 -0.370396 -2.620791  1.649596  311.291489   \n",
       "1 -88.069874 -998.773910  11.651440 -0.282880 -3.161370  0.810362  301.127326   \n",
       "\n",
       "         S2_Ay      S2_Az     S2_Gx     S2_Gy     S2_Gz      S3_Ax  \\\n",
       "0 -1061.332673  81.294603  2.077435 -3.234044 -4.329407 -68.121248   \n",
       "1 -1027.592784  86.576920  6.452058  2.962058 -3.769370 -70.387323   \n",
       "\n",
       "        S3_Ay       S3_Az     S3_Gx     S3_Gy     S3_Gz       Label  \n",
       "0 -970.461276  150.138268  1.829730  0.240081  0.610366  Downstairs  \n",
       "1 -977.643665  146.687971  0.477777 -0.317638  0.282808  Downstairs  "
      ]
     },
     "execution_count": 81,
     "metadata": {},
     "output_type": "execute_result"
    },
    {
     "ename": "",
     "evalue": "",
     "output_type": "error",
     "traceback": [
      "\u001b[1;31mThe Kernel crashed while executing code in the the current cell or a previous cell. Please review the code in the cell(s) to identify a possible cause of the failure. Click <a href='https://aka.ms/vscodeJupyterKernelCrash'>here</a> for more info. View Jupyter <a href='command:jupyter.viewOutput'>log</a> for further details."
     ]
    }
   ],
   "source": [
    "# split data into input and output elements\n",
    "X = df_filtred[['S1_Ax', 'S1_Ay', 'S1_Az', 'S1_Gx', 'S1_Gy',\n",
    "       'S1_Gz', 'S2_Ax', 'S2_Ay', 'S2_Az', 'S2_Gx', 'S2_Gy', 'S2_Gz', 'S3_Ax',\n",
    "       'S3_Ay', 'S3_Az', 'S3_Gx', 'S3_Gy', 'S3_Gz']]\n",
    "y = df_filtred[['Label']]\n",
    "\n",
    "oversample = SMOTE()\n",
    "Xo, yo = oversample.fit_resample(X, y)\n",
    "\n",
    "df_Smoted=pd.concat([Xo,yo],axis=1)\n",
    "print(df_Smoted.shape)\n",
    "df_Smoted.head(2)"
   ]
  },
  {
   "cell_type": "markdown",
   "metadata": {},
   "source": [
    "### Label encoding"
   ]
  },
  {
   "cell_type": "code",
   "execution_count": 32,
   "metadata": {},
   "outputs": [
    {
     "data": {
      "text/html": [
       "<div>\n",
       "<style scoped>\n",
       "    .dataframe tbody tr th:only-of-type {\n",
       "        vertical-align: middle;\n",
       "    }\n",
       "\n",
       "    .dataframe tbody tr th {\n",
       "        vertical-align: top;\n",
       "    }\n",
       "\n",
       "    .dataframe thead th {\n",
       "        text-align: right;\n",
       "    }\n",
       "</style>\n",
       "<table border=\"1\" class=\"dataframe\">\n",
       "  <thead>\n",
       "    <tr style=\"text-align: right;\">\n",
       "      <th></th>\n",
       "      <th>S1_Ax</th>\n",
       "      <th>S1_Ay</th>\n",
       "      <th>S1_Az</th>\n",
       "      <th>S1_Gx</th>\n",
       "      <th>S1_Gy</th>\n",
       "      <th>S1_Gz</th>\n",
       "      <th>S2_Ax</th>\n",
       "      <th>S2_Ay</th>\n",
       "      <th>S2_Az</th>\n",
       "      <th>S2_Gx</th>\n",
       "      <th>S2_Gy</th>\n",
       "      <th>S2_Gz</th>\n",
       "      <th>S3_Ax</th>\n",
       "      <th>S3_Ay</th>\n",
       "      <th>S3_Az</th>\n",
       "      <th>S3_Gx</th>\n",
       "      <th>S3_Gy</th>\n",
       "      <th>S3_Gz</th>\n",
       "      <th>Label</th>\n",
       "      <th>Label_id</th>\n",
       "    </tr>\n",
       "  </thead>\n",
       "  <tbody>\n",
       "    <tr>\n",
       "      <th>0</th>\n",
       "      <td>-84.222490</td>\n",
       "      <td>-994.627346</td>\n",
       "      <td>8.055153</td>\n",
       "      <td>-0.370396</td>\n",
       "      <td>-2.620791</td>\n",
       "      <td>1.649596</td>\n",
       "      <td>311.291489</td>\n",
       "      <td>-1061.332673</td>\n",
       "      <td>81.294603</td>\n",
       "      <td>2.077435</td>\n",
       "      <td>-3.234044</td>\n",
       "      <td>-4.329407</td>\n",
       "      <td>-68.121248</td>\n",
       "      <td>-970.461276</td>\n",
       "      <td>150.138268</td>\n",
       "      <td>1.829730</td>\n",
       "      <td>0.240081</td>\n",
       "      <td>0.610366</td>\n",
       "      <td>Downstairs</td>\n",
       "      <td>0</td>\n",
       "    </tr>\n",
       "    <tr>\n",
       "      <th>1</th>\n",
       "      <td>-88.069874</td>\n",
       "      <td>-998.773910</td>\n",
       "      <td>11.651440</td>\n",
       "      <td>-0.282880</td>\n",
       "      <td>-3.161370</td>\n",
       "      <td>0.810362</td>\n",
       "      <td>301.127326</td>\n",
       "      <td>-1027.592784</td>\n",
       "      <td>86.576920</td>\n",
       "      <td>6.452058</td>\n",
       "      <td>2.962058</td>\n",
       "      <td>-3.769370</td>\n",
       "      <td>-70.387323</td>\n",
       "      <td>-977.643665</td>\n",
       "      <td>146.687971</td>\n",
       "      <td>0.477777</td>\n",
       "      <td>-0.317638</td>\n",
       "      <td>0.282808</td>\n",
       "      <td>Downstairs</td>\n",
       "      <td>0</td>\n",
       "    </tr>\n",
       "  </tbody>\n",
       "</table>\n",
       "</div>"
      ],
      "text/plain": [
       "       S1_Ax       S1_Ay      S1_Az     S1_Gx     S1_Gy     S1_Gz       S2_Ax  \\\n",
       "0 -84.222490 -994.627346   8.055153 -0.370396 -2.620791  1.649596  311.291489   \n",
       "1 -88.069874 -998.773910  11.651440 -0.282880 -3.161370  0.810362  301.127326   \n",
       "\n",
       "         S2_Ay      S2_Az     S2_Gx     S2_Gy     S2_Gz      S3_Ax  \\\n",
       "0 -1061.332673  81.294603  2.077435 -3.234044 -4.329407 -68.121248   \n",
       "1 -1027.592784  86.576920  6.452058  2.962058 -3.769370 -70.387323   \n",
       "\n",
       "        S3_Ay       S3_Az     S3_Gx     S3_Gy     S3_Gz       Label  Label_id  \n",
       "0 -970.461276  150.138268  1.829730  0.240081  0.610366  Downstairs         0  \n",
       "1 -977.643665  146.687971  0.477777 -0.317638  0.282808  Downstairs         0  "
      ]
     },
     "execution_count": 32,
     "metadata": {},
     "output_type": "execute_result"
    }
   ],
   "source": [
    "df_Smoted['Label_id']=df_Smoted['Label']\n",
    "dff=df_Smoted.replace({'Label_id': {'Downstairs':0,'Walking':1,'Upstairs':2,\n",
    "                        'Sitting':3,'Laying':4,'Standing':5}})\n",
    "dff.head(2)"
   ]
  },
  {
   "cell_type": "code",
   "execution_count": 33,
   "metadata": {},
   "outputs": [
    {
     "name": "stdout",
     "output_type": "stream",
     "text": [
      "(176070, 19)\n"
     ]
    },
    {
     "data": {
      "text/html": [
       "<div>\n",
       "<style scoped>\n",
       "    .dataframe tbody tr th:only-of-type {\n",
       "        vertical-align: middle;\n",
       "    }\n",
       "\n",
       "    .dataframe tbody tr th {\n",
       "        vertical-align: top;\n",
       "    }\n",
       "\n",
       "    .dataframe thead th {\n",
       "        text-align: right;\n",
       "    }\n",
       "</style>\n",
       "<table border=\"1\" class=\"dataframe\">\n",
       "  <thead>\n",
       "    <tr style=\"text-align: right;\">\n",
       "      <th></th>\n",
       "      <th>S1_Ax</th>\n",
       "      <th>S1_Ay</th>\n",
       "      <th>S1_Az</th>\n",
       "      <th>S1_Gx</th>\n",
       "      <th>S1_Gy</th>\n",
       "      <th>S1_Gz</th>\n",
       "      <th>S2_Ax</th>\n",
       "      <th>S2_Ay</th>\n",
       "      <th>S2_Az</th>\n",
       "      <th>S2_Gx</th>\n",
       "      <th>S2_Gy</th>\n",
       "      <th>S2_Gz</th>\n",
       "      <th>S3_Ax</th>\n",
       "      <th>S3_Ay</th>\n",
       "      <th>S3_Az</th>\n",
       "      <th>S3_Gx</th>\n",
       "      <th>S3_Gy</th>\n",
       "      <th>S3_Gz</th>\n",
       "      <th>Label_id</th>\n",
       "    </tr>\n",
       "  </thead>\n",
       "  <tbody>\n",
       "    <tr>\n",
       "      <th>176068</th>\n",
       "      <td>-0.536703</td>\n",
       "      <td>-0.201800</td>\n",
       "      <td>0.750810</td>\n",
       "      <td>-0.049962</td>\n",
       "      <td>0.337723</td>\n",
       "      <td>-0.442442</td>\n",
       "      <td>1.399594</td>\n",
       "      <td>-0.343111</td>\n",
       "      <td>-0.674110</td>\n",
       "      <td>-1.999509</td>\n",
       "      <td>-0.876199</td>\n",
       "      <td>1.831822</td>\n",
       "      <td>-0.282841</td>\n",
       "      <td>0.632618</td>\n",
       "      <td>1.108624</td>\n",
       "      <td>0.136759</td>\n",
       "      <td>-0.321555</td>\n",
       "      <td>1.28865</td>\n",
       "      <td>1</td>\n",
       "    </tr>\n",
       "    <tr>\n",
       "      <th>176069</th>\n",
       "      <td>-0.380689</td>\n",
       "      <td>0.473902</td>\n",
       "      <td>-0.034096</td>\n",
       "      <td>2.680881</td>\n",
       "      <td>0.106790</td>\n",
       "      <td>-1.200877</td>\n",
       "      <td>-0.054480</td>\n",
       "      <td>-0.154568</td>\n",
       "      <td>-0.285668</td>\n",
       "      <td>-1.169382</td>\n",
       "      <td>-0.124162</td>\n",
       "      <td>-1.088952</td>\n",
       "      <td>0.499170</td>\n",
       "      <td>-0.602965</td>\n",
       "      <td>0.609451</td>\n",
       "      <td>-0.082274</td>\n",
       "      <td>-0.707267</td>\n",
       "      <td>-0.33340</td>\n",
       "      <td>1</td>\n",
       "    </tr>\n",
       "  </tbody>\n",
       "</table>\n",
       "</div>"
      ],
      "text/plain": [
       "           S1_Ax     S1_Ay     S1_Az     S1_Gx     S1_Gy     S1_Gz     S2_Ax  \\\n",
       "176068 -0.536703 -0.201800  0.750810 -0.049962  0.337723 -0.442442  1.399594   \n",
       "176069 -0.380689  0.473902 -0.034096  2.680881  0.106790 -1.200877 -0.054480   \n",
       "\n",
       "           S2_Ay     S2_Az     S2_Gx     S2_Gy     S2_Gz     S3_Ax     S3_Ay  \\\n",
       "176068 -0.343111 -0.674110 -1.999509 -0.876199  1.831822 -0.282841  0.632618   \n",
       "176069 -0.154568 -0.285668 -1.169382 -0.124162 -1.088952  0.499170 -0.602965   \n",
       "\n",
       "           S3_Az     S3_Gx     S3_Gy    S3_Gz  Label_id  \n",
       "176068  1.108624  0.136759 -0.321555  1.28865         1  \n",
       "176069  0.609451 -0.082274 -0.707267 -0.33340         1  "
      ]
     },
     "execution_count": 33,
     "metadata": {},
     "output_type": "execute_result"
    }
   ],
   "source": [
    "#Label encoding\n",
    "#df_filtred['Label_id']=df_filtred['Label']\n",
    "#dff=df_filtred.replace({'Label_id': {'Downstairs':0,'Walking':1,'Upstairs':2,\n",
    "                        #'Sitting':3,'Laying':4,'Standing':5}})\n",
    "### Normalize/Standardize data\n",
    "from sklearn.preprocessing import StandardScaler, LabelEncoder\n",
    "X = dff[['S1_Ax', 'S1_Ay', 'S1_Az', 'S1_Gx', 'S1_Gy','S1_Gz', 'S2_Ax', 'S2_Ay', 'S2_Az', 'S2_Gx', 'S2_Gy', 'S2_Gz', 'S3_Ax',\n",
    "       'S3_Ay', 'S3_Az', 'S3_Gx', 'S3_Gy', 'S3_Gz']]\n",
    "y = dff['Label_id']\n",
    "scaler = StandardScaler()\n",
    "dx = scaler.fit_transform(X)\n",
    "\n",
    "df_scaled = pd.DataFrame(data = dx, columns = X.columns)\n",
    "df_scaled['Label_id'] = y.values\n",
    "\n",
    "print(df_scaled.shape)\n",
    "df_scaled.tail(2)"
   ]
  },
  {
   "cell_type": "code",
   "execution_count": 40,
   "metadata": {},
   "outputs": [],
   "source": [
    "## Segmentation (window Preparation)\n",
    "import scipy.stats as stats\n",
    "Fs = 100\n",
    "segment_size = 500 # fs*3 # window size=n_time steps=frame size\n",
    "step_size = 50  #  Fs/2 # step size is related to window overlap\n",
    "n_features = 18\n",
    "def get_segments(df, segment_size, step_size):\n",
    "\n",
    "    segments = []\n",
    "    labels = []\n",
    "    \n",
    "    for i in range(0, len(df) - segment_size - 1, step_size):\n",
    "        S1Ax = df_scaled['S1_Ax'].values[i: i + segment_size]\n",
    "        S1Ay = df_scaled['S1_Ay'].values[i: i + segment_size]\n",
    "        S1Az = df_scaled['S1_Az'].values[i: i + segment_size]\n",
    "        S1Gx = df_scaled['S1_Gx'].values[i: i + segment_size]\n",
    "        S1Gy = df_scaled['S1_Gy'].values[i: i + segment_size]\n",
    "        S1Gz = df_scaled['S1_Gz'].values[i: i + segment_size]\n",
    "        \n",
    "        S2Ax = df_scaled['S2_Ax'].values[i: i + segment_size]\n",
    "        S2Ay = df_scaled['S2_Ay'].values[i: i + segment_size]\n",
    "        S2Az = df_scaled['S2_Az'].values[i: i + segment_size]\n",
    "        S2Gx = df_scaled['S2_Gx'].values[i: i + segment_size]\n",
    "        S2Gy = df_scaled['S2_Gy'].values[i: i + segment_size]\n",
    "        S2Gz = df_scaled['S2_Gz'].values[i: i + segment_size]\n",
    "        \n",
    "        \n",
    "        S3Ax = df_scaled['S3_Ax'].values[i: i + segment_size]\n",
    "        S3Ay = df_scaled['S3_Ay'].values[i: i + segment_size]\n",
    "        S3Az = df_scaled['S3_Az'].values[i: i + segment_size]\n",
    "        S3Gx = df_scaled['S3_Gx'].values[i: i + segment_size]\n",
    "        S3Gy = df_scaled['S3_Gy'].values[i: i + segment_size]\n",
    "        S3Gz = df_scaled['S3_Gz'].values[i: i + segment_size]\n",
    "        \n",
    "          # Retrieve the most often used label in this segment\n",
    "        # label = stats.mode(df_scaled['Label_id'][i: i + segment_size])[0][0] ## [0][0] shows the current sequence\n",
    "        label = np.unique(df_scaled['Label_id'][i: i + segment_size])[0]\n",
    "\n",
    "        #We used the dstack() to ensure that each array is stacked in such a way that\n",
    "        #the features are separated in the third dimension, as we would prefer.\n",
    "        segments.append(np.dstack([S1Ax, S1Ay, S1Az,S1Gx,S1Gy,S1Gz,S2Ax,S2Ay,S2Az, S2Gx,S2Gy,S2Gz,S3Ax,S3Ay,S3Az,S3Gx,S3Gy,S3Gz]))\n",
    "        labels.append(label)\n",
    "\n",
    "    # Bring the segments into a better shape\n",
    "    segments=np.asarray(segments, dtype= np.float32).reshape(-1, segment_size, n_features)\n",
    "    labels = np.asarray(pd.get_dummies(labels), dtype = np.float32)\n",
    "        \n",
    "    return segments, labels\n"
   ]
  },
  {
   "cell_type": "code",
   "execution_count": 41,
   "metadata": {},
   "outputs": [],
   "source": [
    "X, y = get_segments(df_scaled, segment_size, step_size)"
   ]
  },
  {
   "cell_type": "code",
   "execution_count": 42,
   "metadata": {},
   "outputs": [
    {
     "data": {
      "text/plain": [
       "((3512, 500, 18), (3512, 6), 3512)"
      ]
     },
     "execution_count": 42,
     "metadata": {},
     "output_type": "execute_result"
    }
   ],
   "source": [
    "X.shape,y.shape, y.shape[0]"
   ]
  },
  {
   "cell_type": "markdown",
   "metadata": {},
   "source": [
    "### CNN-LSTM\n",
    "The CNN-LSTM architecture involves using Convolutional Neural Network (CNN) layers for\n",
    "feature extraction on input data combined with LSTMs to support sequence prediction. The CNN-LSTM model will read subsequences of the main sequence in as blocks, extract features from each block, then allow the LSTM to interpret the features extracted from each block. One approach to implementing this model is to split each window of 128 time steps into\n",
    "subsequences for the CNN model to process. For example, the 128 time steps in each window can be split into four subsequences of 32 time steps"
   ]
  },
  {
   "cell_type": "code",
   "execution_count": 43,
   "metadata": {},
   "outputs": [],
   "source": [
    "# reshape data into time steps of sub-sequences\n",
    "n_steps, n_length = 10, 50\n",
    "df_X = X.reshape((X.shape[0], n_steps, n_length, n_features))\n",
    "n_outputs = y.shape[1] #n_outputs= 6"
   ]
  },
  {
   "cell_type": "code",
   "execution_count": 44,
   "metadata": {},
   "outputs": [
    {
     "data": {
      "text/plain": [
       "((3512, 10, 50, 18), (3512, 6))"
      ]
     },
     "execution_count": 44,
     "metadata": {},
     "output_type": "execute_result"
    }
   ],
   "source": [
    "df_X.shape,np.shape(y)"
   ]
  },
  {
   "cell_type": "markdown",
   "metadata": {},
   "source": [
    "We can then define a CNN model that expects to read in sequences with a length of 32 time\n",
    "steps and three features. The entire CNN model can be wrapped in a TimeDistributed layer\n",
    "to allow the same CNN model to read in each of the four subsequences in the window. The\n",
    "extracted features are then flattened and provided to the LSTM model to read, extracting its\n",
    "own features before a final mapping to an activity is made."
   ]
  },
  {
   "cell_type": "code",
   "execution_count": 46,
   "metadata": {},
   "outputs": [],
   "source": [
    "from keras.models import Sequential\n",
    "from keras.layers import Dense\n",
    "from keras.layers import Flatten\n",
    "from keras.layers import Dropout\n",
    "from keras.layers import LSTM\n",
    "from keras.layers import TimeDistributed\n",
    "# from keras.layers.convolutional import Conv1D\n",
    "# from keras.layers.convolutional import MaxPooling1D\n",
    "from keras.layers import Conv1D  # Updated import\n",
    "from keras.layers import MaxPooling1D  # Updated import"
   ]
  },
  {
   "cell_type": "code",
   "execution_count": 51,
   "metadata": {},
   "outputs": [],
   "source": [
    "#from sklearn.model_selection import GridSearchCV\n",
    "import keras\n",
    "# from keras.wrappers.scikit_learn import KerasClassifier\n",
    "# # from scikeras.wrappers import KerasClassifier\n",
    "# from tensorflow.keras.wrappers.scikit_learn import KerasClassifier  # Updated import\n",
    "from sklearn.metrics import accuracy_score\n",
    "from sklearn.model_selection import GridSearchCV \n",
    "from sklearn.model_selection import train_test_split"
   ]
  },
  {
   "cell_type": "code",
   "execution_count": 20,
   "metadata": {},
   "outputs": [],
   "source": [
    "# split training set into training and validation set\n",
    "#X_train, X_test, y_train, y_test = train_test_split(df_X,y,test_size=0.20,random_state=7)"
   ]
  },
  {
   "cell_type": "code",
   "execution_count": 52,
   "metadata": {},
   "outputs": [],
   "source": [
    "# split data into training set and test set\n",
    "X_train_main, X_test, y_train_main, y_test = train_test_split(df_X, y,test_size=0.20, random_state=42)\n",
    "\n",
    "# split training set into training and validation set\n",
    "X_train, X_valid, y_train, y_valid = train_test_split(X_train_main,y_train_main,test_size=0.20,random_state=42)"
   ]
  },
  {
   "cell_type": "code",
   "execution_count": 53,
   "metadata": {},
   "outputs": [
    {
     "data": {
      "text/plain": [
       "((2247, 10, 50, 18), (2247, 6), (562, 10, 50, 18), (562, 6))"
      ]
     },
     "execution_count": 53,
     "metadata": {},
     "output_type": "execute_result"
    }
   ],
   "source": [
    "X_train.shape,y_train.shape, X_valid.shape, y_valid.shape"
   ]
  },
  {
   "cell_type": "code",
   "execution_count": 54,
   "metadata": {},
   "outputs": [],
   "source": [
    "def create_model(optimizer= 'rmsprop' , init= 'glorot_uniform' ):\n",
    "    # create model\n",
    "    model = Sequential()\n",
    "    model.add(TimeDistributed(Conv1D(filters=64, kernel_size=3, activation='relu'),input_shape=(None,n_length,n_features)))\n",
    "    model.add(TimeDistributed(Conv1D(filters=64, kernel_size=3, activation='relu')))\n",
    "    model.add(TimeDistributed(Dropout(0.5)))\n",
    "    model.add(TimeDistributed(MaxPooling1D(pool_size=2)))\n",
    "    model.add(TimeDistributed(Flatten()))\n",
    "    model.add(LSTM(100))\n",
    "    model.add(Dropout(0.5))\n",
    "    model.add(Dense(100, activation='relu'))\n",
    "    model.add(Dense(n_outputs, activation='softmax'))\n",
    "    model.compile(loss='categorical_crossentropy', optimizer='adam', metrics=['accuracy'])\n",
    "    return model"
   ]
  },
  {
   "cell_type": "code",
   "execution_count": 55,
   "metadata": {},
   "outputs": [],
   "source": [
    "### Initialize Model\n",
    "model_cnn_lstm=create_model()"
   ]
  },
  {
   "cell_type": "code",
   "execution_count": 56,
   "metadata": {},
   "outputs": [
    {
     "name": "stdout",
     "output_type": "stream",
     "text": [
      "Epoch 1/20\n",
      "WARNING:tensorflow:AutoGraph could not transform <function Model.make_train_function.<locals>.train_function at 0x00000214EBBB2FC0> and will run it as-is.\n",
      "Please report this to the TensorFlow team. When filing the bug, set the verbosity to 10 (on Linux, `export AUTOGRAPH_VERBOSITY=10`) and attach the full output.\n",
      "Cause: closure mismatch, requested ('self', 'step_function'), but source function had ()\n",
      "To silence this warning, decorate the function with @tf.autograph.experimental.do_not_convert\n",
      "WARNING: AutoGraph could not transform <function Model.make_train_function.<locals>.train_function at 0x00000214EBBB2FC0> and will run it as-is.\n",
      "Please report this to the TensorFlow team. When filing the bug, set the verbosity to 10 (on Linux, `export AUTOGRAPH_VERBOSITY=10`) and attach the full output.\n",
      "Cause: closure mismatch, requested ('self', 'step_function'), but source function had ()\n",
      "To silence this warning, decorate the function with @tf.autograph.experimental.do_not_convert\n",
      "71/71 [==============================] - ETA: 0s - loss: 1.3097 - accuracy: 0.4562WARNING:tensorflow:AutoGraph could not transform <function Model.make_test_function.<locals>.test_function at 0x00000214EBD5A020> and will run it as-is.\n",
      "Please report this to the TensorFlow team. When filing the bug, set the verbosity to 10 (on Linux, `export AUTOGRAPH_VERBOSITY=10`) and attach the full output.\n",
      "Cause: closure mismatch, requested ('self', 'step_function'), but source function had ()\n",
      "To silence this warning, decorate the function with @tf.autograph.experimental.do_not_convert\n",
      "WARNING: AutoGraph could not transform <function Model.make_test_function.<locals>.test_function at 0x00000214EBD5A020> and will run it as-is.\n",
      "Please report this to the TensorFlow team. When filing the bug, set the verbosity to 10 (on Linux, `export AUTOGRAPH_VERBOSITY=10`) and attach the full output.\n",
      "Cause: closure mismatch, requested ('self', 'step_function'), but source function had ()\n",
      "To silence this warning, decorate the function with @tf.autograph.experimental.do_not_convert\n",
      "71/71 [==============================] - 15s 143ms/step - loss: 1.3097 - accuracy: 0.4562 - val_loss: 0.9632 - val_accuracy: 0.6085\n",
      "Epoch 2/20\n",
      "71/71 [==============================] - 8s 116ms/step - loss: 0.8374 - accuracy: 0.7089 - val_loss: 0.6036 - val_accuracy: 0.8096\n",
      "Epoch 3/20\n",
      "71/71 [==============================] - 8s 114ms/step - loss: 0.4997 - accuracy: 0.8389 - val_loss: 0.4045 - val_accuracy: 0.8683\n",
      "Epoch 4/20\n",
      "71/71 [==============================] - 8s 115ms/step - loss: 0.3197 - accuracy: 0.8994 - val_loss: 0.2822 - val_accuracy: 0.9253\n",
      "Epoch 5/20\n",
      "71/71 [==============================] - 8s 119ms/step - loss: 0.2227 - accuracy: 0.9266 - val_loss: 0.3714 - val_accuracy: 0.8772\n",
      "Epoch 6/20\n",
      "71/71 [==============================] - 8s 119ms/step - loss: 0.1871 - accuracy: 0.9355 - val_loss: 0.1838 - val_accuracy: 0.9377\n",
      "Epoch 7/20\n",
      "71/71 [==============================] - 9s 124ms/step - loss: 0.1318 - accuracy: 0.9595 - val_loss: 0.1615 - val_accuracy: 0.9466\n",
      "Epoch 8/20\n",
      "71/71 [==============================] - 9s 120ms/step - loss: 0.0997 - accuracy: 0.9680 - val_loss: 0.1472 - val_accuracy: 0.9591\n",
      "Epoch 9/20\n",
      "71/71 [==============================] - 9s 122ms/step - loss: 0.0941 - accuracy: 0.9680 - val_loss: 0.1757 - val_accuracy: 0.9555\n",
      "Epoch 10/20\n",
      "71/71 [==============================] - 8s 116ms/step - loss: 0.1037 - accuracy: 0.9688 - val_loss: 0.1478 - val_accuracy: 0.9466\n",
      "Epoch 11/20\n",
      "71/71 [==============================] - 9s 122ms/step - loss: 0.0601 - accuracy: 0.9755 - val_loss: 0.1423 - val_accuracy: 0.9502\n",
      "Epoch 12/20\n",
      "71/71 [==============================] - 9s 120ms/step - loss: 0.0577 - accuracy: 0.9795 - val_loss: 0.1358 - val_accuracy: 0.9573\n",
      "Epoch 13/20\n",
      "71/71 [==============================] - 8s 119ms/step - loss: 0.0531 - accuracy: 0.9822 - val_loss: 0.1298 - val_accuracy: 0.9573\n",
      "Epoch 14/20\n",
      "71/71 [==============================] - 9s 122ms/step - loss: 0.0427 - accuracy: 0.9849 - val_loss: 0.1154 - val_accuracy: 0.9644\n",
      "Epoch 15/20\n",
      "71/71 [==============================] - 8s 117ms/step - loss: 0.0229 - accuracy: 0.9911 - val_loss: 0.1387 - val_accuracy: 0.9626\n",
      "Epoch 16/20\n",
      "71/71 [==============================] - 8s 119ms/step - loss: 0.0334 - accuracy: 0.9875 - val_loss: 0.1852 - val_accuracy: 0.9609\n",
      "Epoch 17/20\n",
      "71/71 [==============================] - 9s 126ms/step - loss: 0.0586 - accuracy: 0.9773 - val_loss: 0.1477 - val_accuracy: 0.9609\n",
      "Epoch 18/20\n",
      "71/71 [==============================] - 8s 110ms/step - loss: 0.0317 - accuracy: 0.9898 - val_loss: 0.1366 - val_accuracy: 0.9591\n",
      "Epoch 19/20\n",
      "71/71 [==============================] - 8s 112ms/step - loss: 0.0440 - accuracy: 0.9871 - val_loss: 0.1532 - val_accuracy: 0.9484\n",
      "Epoch 20/20\n",
      "71/71 [==============================] - 8s 108ms/step - loss: 0.0320 - accuracy: 0.9893 - val_loss: 0.1616 - val_accuracy: 0.9591\n"
     ]
    }
   ],
   "source": [
    "history = model_cnn_lstm.fit(X_train, y_train, validation_data=(X_valid, y_valid), epochs=20, batch_size=32)"
   ]
  },
  {
   "cell_type": "markdown",
   "metadata": {},
   "source": [
    "### Plot learning History"
   ]
  },
  {
   "cell_type": "code",
   "execution_count": 58,
   "metadata": {},
   "outputs": [],
   "source": [
    "def plot_learningCurve(history, epochs):\n",
    "  # Plot training & validation accuracy values\n",
    "  epoch_range = range(1, epochs+1)\n",
    "  plt.plot(epoch_range, history.history['accuracy'])\n",
    "  plt.plot(epoch_range, history.history['val_accuracy'])\n",
    "  plt.title('Model accuracy')\n",
    "  plt.ylabel('Accuracy')\n",
    "  plt.xlabel('Epoch')\n",
    "  plt.legend(['Train', 'Val'], loc='upper left')\n",
    "  plt.show()\n",
    "\n",
    "  # Plot training & validation loss values\n",
    "  plt.plot(epoch_range, history.history['loss'])\n",
    "  plt.plot(epoch_range, history.history['val_loss'])\n",
    "  plt.title('Model loss')\n",
    "  plt.ylabel('Loss')\n",
    "  plt.xlabel('Epoch')\n",
    "  plt.legend(['Train', 'Val'], loc='upper left')\n",
    "  plt.show()"
   ]
  },
  {
   "cell_type": "code",
   "execution_count": 59,
   "metadata": {},
   "outputs": [
    {
     "data": {
      "image/png": "[encoded data removed]",
      "text/plain": [
       "<Figure size 640x480 with 1 Axes>"
      ]
     },
     "metadata": {},
     "output_type": "display_data"
    },
    {
     "data": {
      "image/png": "[encoded data removed]",
      "text/plain": [
       "<Figure size 640x480 with 1 Axes>"
      ]
     },
     "metadata": {},
     "output_type": "display_data"
    }
   ],
   "source": [
    "plot_learningCurve(history, 20)"
   ]
  },
  {
   "cell_type": "markdown",
   "metadata": {},
   "source": [
    "## Save Model"
   ]
  },
  {
   "cell_type": "code",
   "execution_count": 60,
   "metadata": {},
   "outputs": [
    {
     "name": "stderr",
     "output_type": "stream",
     "text": [
      "C:\\Users\\Hadsaw\\AppData\\Local\\Packages\\PythonSoftwareFoundation.Python.3.11_qbz5n2kfra8p0\\LocalCache\\local-packages\\Python311\\site-packages\\keras\\src\\engine\\training.py:3079: UserWarning: You are saving your model as an HDF5 file via `model.save()`. This file format is considered legacy. We recommend using instead the native Keras format, e.g. `model.save('my_model.keras')`.\n",
      "  `tf.saved_model.SaveOptions` object that specifies SavedModel\n"
     ]
    }
   ],
   "source": [
    "model_cnn_lstm.save('cnn_lstm_all.h5')"
   ]
  },
  {
   "cell_type": "code",
   "execution_count": 61,
   "metadata": {},
   "outputs": [],
   "source": [
    "np.set_printoptions(suppress=True) #suppress scientific notation when printing :numpy "
   ]
  },
  {
   "cell_type": "code",
   "execution_count": 62,
   "metadata": {},
   "outputs": [
    {
     "name": "stdout",
     "output_type": "stream",
     "text": [
      "WARNING:tensorflow:AutoGraph could not transform <function Model.make_predict_function.<locals>.predict_function at 0x00000214F259D3A0> and will run it as-is.\n",
      "Please report this to the TensorFlow team. When filing the bug, set the verbosity to 10 (on Linux, `export AUTOGRAPH_VERBOSITY=10`) and attach the full output.\n",
      "Cause: closure mismatch, requested ('self', 'step_function'), but source function had ()\n",
      "To silence this warning, decorate the function with @tf.autograph.experimental.do_not_convert\n",
      "WARNING: AutoGraph could not transform <function Model.make_predict_function.<locals>.predict_function at 0x00000214F259D3A0> and will run it as-is.\n",
      "Please report this to the TensorFlow team. When filing the bug, set the verbosity to 10 (on Linux, `export AUTOGRAPH_VERBOSITY=10`) and attach the full output.\n",
      "Cause: closure mismatch, requested ('self', 'step_function'), but source function had ()\n",
      "To silence this warning, decorate the function with @tf.autograph.experimental.do_not_convert\n",
      "22/22 [==============================] - 2s 22ms/step\n"
     ]
    },
    {
     "data": {
      "text/plain": [
       "(array([[0.07877905, 0.00060156, 0.00003349, 0.00055421, 0.01056206,\n",
       "         0.90946954],\n",
       "        [0.00000148, 0.00000071, 0.00235733, 0.9969798 , 0.00065264,\n",
       "         0.000008  ],\n",
       "        [0.00000822, 0.00000009, 0.00000048, 0.00003376, 0.99993026,\n",
       "         0.00002712]], dtype=float32),)"
      ]
     },
     "execution_count": 62,
     "metadata": {},
     "output_type": "execute_result"
    }
   ],
   "source": [
    "# Make Predictions on test \n",
    "y_preds_test = model_cnn_lstm.predict(X_test) #class Prediction \n",
    "\n",
    "y_preds_test[:3], #y_probs_test[:5]"
   ]
  },
  {
   "cell_type": "code",
   "execution_count": 63,
   "metadata": {},
   "outputs": [
    {
     "data": {
      "text/plain": [
       "array([[0., 0., 0., 0., 0., 1.],\n",
       "       [0., 0., 0., 1., 0., 0.],\n",
       "       [0., 0., 0., 0., 1., 0.],\n",
       "       [1., 0., 0., 0., 0., 0.],\n",
       "       [0., 0., 0., 1., 0., 0.]], dtype=float32)"
      ]
     },
     "execution_count": 63,
     "metadata": {},
     "output_type": "execute_result"
    }
   ],
   "source": [
    "y_test[:5,]"
   ]
  },
  {
   "cell_type": "code",
   "execution_count": 64,
   "metadata": {},
   "outputs": [
    {
     "data": {
      "text/plain": [
       "((703,), (703, 6))"
      ]
     },
     "execution_count": 64,
     "metadata": {},
     "output_type": "execute_result"
    }
   ],
   "source": [
    "y_pred_test=np.argmax(y_preds_test,axis=1) \n",
    "y_true_test=np.argmax(y_test,axis=1) \n",
    "\n",
    "y_true_test.shape, y_test.shape"
   ]
  },
  {
   "cell_type": "markdown",
   "metadata": {},
   "source": [
    "###  Evaluate Model"
   ]
  },
  {
   "cell_type": "code",
   "execution_count": 65,
   "metadata": {},
   "outputs": [
    {
     "name": "stdout",
     "output_type": "stream",
     "text": [
      "Test  acc : 0.9516358463726885\n",
      "\n",
      " -------------Classification Report-------------\n",
      "\n",
      "              precision    recall  f1-score   support\n",
      "\n",
      "           0       0.97      0.95      0.96       146\n",
      "           1       0.97      0.89      0.93       130\n",
      "           2       0.88      0.98      0.93       116\n",
      "           3       0.97      0.95      0.96       116\n",
      "           4       0.97      0.98      0.97       116\n",
      "           5       0.94      0.96      0.95        79\n",
      "\n",
      "    accuracy                           0.95       703\n",
      "   macro avg       0.95      0.95      0.95       703\n",
      "weighted avg       0.95      0.95      0.95       703\n",
      "\n"
     ]
    }
   ],
   "source": [
    "### Evaluate Model using accuracy \n",
    "from sklearn.metrics import accuracy_score,classification_report\n",
    "print(\"Test  acc : {}\".format(accuracy_score(y_true_test, y_pred_test)))\n",
    "print(\"\\n -------------Classification Report-------------\\n\")\n",
    "print(classification_report(y_true_test, y_pred_test))"
   ]
  },
  {
   "cell_type": "code",
   "execution_count": 66,
   "metadata": {},
   "outputs": [
    {
     "name": "stdout",
     "output_type": "stream",
     "text": [
      "22/22 [==============================] - 1s 28ms/step\n"
     ]
    },
    {
     "data": {
      "text/plain": [
       "((703,), (703,))"
      ]
     },
     "execution_count": 66,
     "metadata": {},
     "output_type": "execute_result"
    }
   ],
   "source": [
    "y_pred_test = model_cnn_lstm.predict(X_test) #class Prediction \n",
    "\n",
    "y_pred_test=np.argmax(y_pred_test,axis=1) \n",
    "y_true_test=np.argmax(y_test,axis=1) \n",
    "\n",
    "y_true_test.shape, y_pred_test.shape"
   ]
  },
  {
   "cell_type": "code",
   "execution_count": 67,
   "metadata": {},
   "outputs": [
    {
     "name": "stdout",
     "output_type": "stream",
     "text": [
      "[[139   3   0   0   0   4]\n",
      " [  4 116  10   0   0   0]\n",
      " [  0   0 114   2   0   0]\n",
      " [  0   0   5 110   1   0]\n",
      " [  0   0   0   1 114   1]\n",
      " [  0   0   0   0   3  76]]\n",
      "0.9516358463726885\n",
      "              precision    recall  f1-score   support\n",
      "\n",
      "           0       0.97      0.95      0.96       146\n",
      "           1       0.97      0.89      0.93       130\n",
      "           2       0.88      0.98      0.93       116\n",
      "           3       0.97      0.95      0.96       116\n",
      "           4       0.97      0.98      0.97       116\n",
      "           5       0.94      0.96      0.95        79\n",
      "\n",
      "    accuracy                           0.95       703\n",
      "   macro avg       0.95      0.95      0.95       703\n",
      "weighted avg       0.95      0.95      0.95       703\n",
      "\n"
     ]
    }
   ],
   "source": [
    "import seaborn as sns\n",
    "import sklearn.metrics as skm\n",
    "import matplotlib.pyplot as plt\n",
    "from sklearn.metrics import accuracy_score as acc\n",
    "from sklearn.metrics import confusion_matrix,classification_report\n",
    "cm=confusion_matrix(y_true_test,y_pred_test)\n",
    "print(cm)\n",
    "print(acc(y_true_test,y_pred_test))\n",
    "print(classification_report(y_true_test,y_pred_test))"
   ]
  },
  {
   "cell_type": "code",
   "execution_count": 68,
   "metadata": {},
   "outputs": [],
   "source": [
    "cf=np.empty((6,6))\n",
    "for i in range(6):\n",
    "    cf[i]=(cm[i]/np.sum(cm[i]))"
   ]
  },
  {
   "cell_type": "code",
   "execution_count": 69,
   "metadata": {},
   "outputs": [],
   "source": [
    "# group_counts = [\"{0:.0f}\".format(value) for value in cm.flatten()]\n",
    "group_percentages = [\"{0:.2%}\".format(value) for value in cf.flatten()]\n",
    "labels = [f\"{v1}\" for v1 in group_percentages]\n",
    "labels = np.asarray(labels).reshape(6,6)"
   ]
  },
  {
   "cell_type": "code",
   "execution_count": 70,
   "metadata": {},
   "outputs": [
    {
     "data": {
      "image/png": "[encoded data removed]",
      "text/plain": [
       "<Figure size 1000x700 with 2 Axes>"
      ]
     },
     "metadata": {},
     "output_type": "display_data"
    }
   ],
   "source": [
    "fig = plt.figure(figsize=(10,7))\n",
    "ax=fig.add_subplot(111)\n",
    "#sns.heatmap(cm, annot=labels,fmt=\"\",cmap='RdYlBu_r',ax=ax)\n",
    "sns.heatmap(cm, annot=labels,fmt=\"\",cmap='Spectral_r',ax=ax)\n",
    "ax.set_xlabel(\"Predicted Labels\\n\\n Overall_accuracy=\"\"{0:.2%}\".format((acc(y_true_test,y_pred_test))),size=14)\n",
    "ax.set_ylabel(\"True Labels\",size=14)\n",
    "ax.set_title(\"Confusion Matrix\",size=14)\n",
    "ax.xaxis.set_ticklabels(['Downstairs','Walking','Upstairs','Sitting','Laying','Standing'])\n",
    "ax.yaxis.set_ticklabels(['Downstairs','Walking','Upstairs','Sitting','Laying','Standing'])\n",
    "plt.savefig('ConfusionMatrix_smart belt',dpi=1200, bbox_inches='tight')"
   ]
  },
  {
   "cell_type": "code",
   "execution_count": 71,
   "metadata": {},
   "outputs": [
    {
     "data": {
      "text/plain": [
       "(0.9513939075856784, 0.9533634844553687, 0.9515557555177939, None)"
      ]
     },
     "execution_count": 71,
     "metadata": {},
     "output_type": "execute_result"
    }
   ],
   "source": [
    "from sklearn.metrics import precision_recall_fscore_support\n",
    "precision_recall_fscore_support(y_true_test, y_pred_test, average='macro')"
   ]
  },
  {
   "cell_type": "code",
   "execution_count": 72,
   "metadata": {},
   "outputs": [
    {
     "data": {
      "text/plain": [
       "array([0.9514, 0.9534, 0.9516])"
      ]
     },
     "execution_count": 72,
     "metadata": {},
     "output_type": "execute_result"
    }
   ],
   "source": [
    "from sklearn.metrics import precision_recall_fscore_support\n",
    "p_r_f=precision_recall_fscore_support(y_true_test, y_pred_test, average='macro')\n",
    "prf=list(p_r_f)\n",
    "pdf_2 = prf[:-1]\n",
    "np.round(pdf_2,4)"
   ]
  },
  {
   "cell_type": "code",
   "execution_count": null,
   "metadata": {},
   "outputs": [],
   "source": []
  },
  {
   "cell_type": "code",
   "execution_count": null,
   "metadata": {},
   "outputs": [],
   "source": []
  }
 ],
 "metadata": {
  "kernelspec": {
   "display_name": "Python 3 (ipykernel)",
   "language": "python",
   "name": "python3"
  },
  "language_info": {
   "codemirror_mode": {
    "name": "ipython",
    "version": 3
   },
   "file_extension": ".py",
   "mimetype": "text/x-python",
   "name": "python",
   "nbconvert_exporter": "python",
   "pygments_lexer": "ipython3",
   "version": "3.11.5"
  }
 },
 "nbformat": 4,
 "nbformat_minor": 4
}
