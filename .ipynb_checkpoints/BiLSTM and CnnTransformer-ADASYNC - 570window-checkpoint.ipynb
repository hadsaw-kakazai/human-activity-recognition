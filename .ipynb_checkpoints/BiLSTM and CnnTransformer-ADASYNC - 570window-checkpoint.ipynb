{
 "cells": [
  {
   "cell_type": "code",
   "execution_count": 1,
   "id": "c6a5b475",
   "metadata": {},
   "outputs": [],
   "source": [
    "### Random Seed\n",
    "from numpy.random import seed\n",
    "seed(1)"
   ]
  },
  {
   "cell_type": "code",
   "execution_count": null,
   "id": "c1180d91",
   "metadata": {},
   "outputs": [],
   "source": []
  },
  {
   "cell_type": "code",
   "execution_count": 2,
   "id": "eb431496",
   "metadata": {},
   "outputs": [],
   "source": [
    "from matplotlib import pyplot as plt\n",
    "import numpy as np\n",
    "import pandas as pd\n",
    "import seaborn as sns\n",
    "import pathlib\n",
    "import csv"
   ]
  },
  {
   "cell_type": "code",
   "execution_count": 3,
   "id": "2a6bbedb",
   "metadata": {},
   "outputs": [
    {
     "name": "stdout",
     "output_type": "stream",
     "text": [
      "(108170, 22)\n"
     ]
    },
    {
     "data": {
      "text/html": [
       "<div>\n",
       "<style scoped>\n",
       "    .dataframe tbody tr th:only-of-type {\n",
       "        vertical-align: middle;\n",
       "    }\n",
       "\n",
       "    .dataframe tbody tr th {\n",
       "        vertical-align: top;\n",
       "    }\n",
       "\n",
       "    .dataframe thead th {\n",
       "        text-align: right;\n",
       "    }\n",
       "</style>\n",
       "<table border=\"1\" class=\"dataframe\">\n",
       "  <thead>\n",
       "    <tr style=\"text-align: right;\">\n",
       "      <th></th>\n",
       "      <th>Unnamed: 0</th>\n",
       "      <th>Pid</th>\n",
       "      <th>timestamp</th>\n",
       "      <th>S1_Ax</th>\n",
       "      <th>S1_Ay</th>\n",
       "      <th>S1_Az</th>\n",
       "      <th>S1_Gx</th>\n",
       "      <th>S1_Gy</th>\n",
       "      <th>S1_Gz</th>\n",
       "      <th>S2_Ax</th>\n",
       "      <th>...</th>\n",
       "      <th>S2_Gx</th>\n",
       "      <th>S2_Gy</th>\n",
       "      <th>S2_Gz</th>\n",
       "      <th>S3_Ax</th>\n",
       "      <th>S3_Ay</th>\n",
       "      <th>S3_Az</th>\n",
       "      <th>S3_Gx</th>\n",
       "      <th>S3_Gy</th>\n",
       "      <th>S3_Gz</th>\n",
       "      <th>Label</th>\n",
       "    </tr>\n",
       "  </thead>\n",
       "  <tbody>\n",
       "    <tr>\n",
       "      <th>0</th>\n",
       "      <td>0</td>\n",
       "      <td>P1_BS</td>\n",
       "      <td>3.00</td>\n",
       "      <td>-84.23</td>\n",
       "      <td>-994.63</td>\n",
       "      <td>8.06</td>\n",
       "      <td>-0.37</td>\n",
       "      <td>-2.62</td>\n",
       "      <td>1.65</td>\n",
       "      <td>311.28</td>\n",
       "      <td>...</td>\n",
       "      <td>2.08</td>\n",
       "      <td>-3.23</td>\n",
       "      <td>-4.33</td>\n",
       "      <td>-68.12</td>\n",
       "      <td>-970.46</td>\n",
       "      <td>150.15</td>\n",
       "      <td>1.83</td>\n",
       "      <td>0.24</td>\n",
       "      <td>0.61</td>\n",
       "      <td>Downstairs</td>\n",
       "    </tr>\n",
       "    <tr>\n",
       "      <th>1</th>\n",
       "      <td>1</td>\n",
       "      <td>P1_BS</td>\n",
       "      <td>3.01</td>\n",
       "      <td>-86.43</td>\n",
       "      <td>-1004.15</td>\n",
       "      <td>16.85</td>\n",
       "      <td>-0.18</td>\n",
       "      <td>-3.17</td>\n",
       "      <td>0.85</td>\n",
       "      <td>301.76</td>\n",
       "      <td>...</td>\n",
       "      <td>6.77</td>\n",
       "      <td>3.05</td>\n",
       "      <td>-3.78</td>\n",
       "      <td>-73.24</td>\n",
       "      <td>-978.52</td>\n",
       "      <td>140.62</td>\n",
       "      <td>0.55</td>\n",
       "      <td>-0.24</td>\n",
       "      <td>0.31</td>\n",
       "      <td>Downstairs</td>\n",
       "    </tr>\n",
       "  </tbody>\n",
       "</table>\n",
       "<p>2 rows × 22 columns</p>\n",
       "</div>"
      ],
      "text/plain": [
       "   Unnamed: 0    Pid  timestamp  S1_Ax    S1_Ay  S1_Az  S1_Gx  S1_Gy  S1_Gz  \\\n",
       "0           0  P1_BS       3.00 -84.23  -994.63   8.06  -0.37  -2.62   1.65   \n",
       "1           1  P1_BS       3.01 -86.43 -1004.15  16.85  -0.18  -3.17   0.85   \n",
       "\n",
       "    S2_Ax  ...  S2_Gx  S2_Gy  S2_Gz  S3_Ax   S3_Ay   S3_Az  S3_Gx  S3_Gy  \\\n",
       "0  311.28  ...   2.08  -3.23  -4.33 -68.12 -970.46  150.15   1.83   0.24   \n",
       "1  301.76  ...   6.77   3.05  -3.78 -73.24 -978.52  140.62   0.55  -0.24   \n",
       "\n",
       "   S3_Gz       Label  \n",
       "0   0.61  Downstairs  \n",
       "1   0.31  Downstairs  \n",
       "\n",
       "[2 rows x 22 columns]"
      ]
     },
     "execution_count": 3,
     "metadata": {},
     "output_type": "execute_result"
    }
   ],
   "source": [
    "df = pd.read_csv('belt_sensor_all.csv')\n",
    "print(df.shape)\n",
    "df.head(2)"
   ]
  },
  {
   "cell_type": "code",
   "execution_count": 4,
   "id": "7774df8c",
   "metadata": {},
   "outputs": [
    {
     "data": {
      "text/plain": [
       "Pid\n",
       "P1_BS            12278\n",
       "P2_BS            13016\n",
       "P3_BS            13016\n",
       "P4_BS            12946\n",
       "P5_BS            13016\n",
       "p10_all_BS123     8825\n",
       "p11_all_BS123     8598\n",
       "p6_all_BS123      8825\n",
       "p7_all_BS123      8825\n",
       "p8_all_BS123      8825\n",
       "dtype: int64"
      ]
     },
     "execution_count": 4,
     "metadata": {},
     "output_type": "execute_result"
    }
   ],
   "source": [
    "df.groupby('Pid').size()"
   ]
  },
  {
   "cell_type": "code",
   "execution_count": 5,
   "id": "ea597caf",
   "metadata": {},
   "outputs": [],
   "source": [
    "### Low Pass filter \n",
    "from scipy import signal\n",
    "def butter_lowpass(cutoff, nyq_freq, order=4):\n",
    "    normal_cutoff = float(cutoff) / nyq_freq\n",
    "    b, a = signal.butter(order, normal_cutoff, btype='lowpass')\n",
    "    return b, a\n",
    "\n",
    "def butter_lowpass_filter(data, cutoff_freq, nyq_freq, order=4):\n",
    "    b, a = butter_lowpass(cutoff_freq, nyq_freq, order=order)\n",
    "    y = signal.filtfilt(b, a, data)\n",
    "    return y"
   ]
  },
  {
   "cell_type": "code",
   "execution_count": 6,
   "id": "4ff313b8",
   "metadata": {},
   "outputs": [],
   "source": [
    "#low pass filter\n",
    "lowpass_filtred=[]\n",
    "dfm=df[['S1_Ax', 'S1_Ay', 'S1_Az', 'S1_Gx', 'S1_Gy','S1_Gz', 'S2_Ax', 'S2_Ay', 'S2_Az', 'S2_Gx', 'S2_Gy', 'S2_Gz', 'S3_Ax',\n",
    "       'S3_Ay', 'S3_Az', 'S3_Gx', 'S3_Gy', 'S3_Gz']]\n",
    "for column in dfm.columns:# iterate over each column in raw_df\n",
    "    cutoff_frequency = 15.0\n",
    "    sample_rate=100\n",
    "    t_signal=np.array(dfm[column]) #copie the signal values in 1D numpy array\n",
    "    y = butter_lowpass_filter(t_signal,cutoff_frequency,sample_rate/2) \n",
    "    lowpass_filtred.append(y)\n",
    "lowpass=pd.DataFrame(lowpass_filtred)\n",
    "lowpass=lowpass.T\n",
    "lowpass.columns=['S1_Ax', 'S1_Ay', 'S1_Az', 'S1_Gx', 'S1_Gy','S1_Gz', 'S2_Ax', 'S2_Ay', 'S2_Az', 'S2_Gx', 'S2_Gy', 'S2_Gz', 'S3_Ax',\n",
    "       'S3_Ay', 'S3_Az', 'S3_Gx', 'S3_Gy', 'S3_Gz']\n",
    "df1=df[['Pid','timestamp']]\n",
    "df_filtred=pd.concat([df1,lowpass],axis=1)\n",
    "df_filtred['Label']=df['Label']"
   ]
  },
  {
   "cell_type": "code",
   "execution_count": 7,
   "id": "ff599e5f",
   "metadata": {},
   "outputs": [
    {
     "data": {
      "text/plain": [
       "Upstairs      29345\n",
       "Downstairs    25030\n",
       "Walking       19440\n",
       "Standing      12180\n",
       "Sitting       11265\n",
       "Laying        10910\n",
       "Name: Label, dtype: int64"
      ]
     },
     "execution_count": 7,
     "metadata": {},
     "output_type": "execute_result"
    }
   ],
   "source": [
    "df_filtred['Label'].value_counts()"
   ]
  },
  {
   "cell_type": "code",
   "execution_count": 8,
   "id": "8fb80b89",
   "metadata": {},
   "outputs": [
    {
     "name": "stdout",
     "output_type": "stream",
     "text": [
      "Class Counts:\n",
      " Upstairs      29345\n",
      "Downstairs    25030\n",
      "Walking       19440\n",
      "Standing      12180\n",
      "Sitting       11265\n",
      "Laying        10910\n",
      "Name: Label, dtype: int64\n"
     ]
    },
    {
     "data": {
      "image/png": "[encoded data removed]",
      "text/plain": [
       "<Figure size 576x432 with 1 Axes>"
      ]
     },
     "metadata": {
      "needs_background": "light"
     },
     "output_type": "display_data"
    }
   ],
   "source": [
    "import matplotlib.pyplot as plt\n",
    "import seaborn as sns\n",
    "import pandas as pd\n",
    "\n",
    "\n",
    "# Checking class balance\n",
    "class_counts = df_filtred['Label'].value_counts()\n",
    "print(\"Class Counts:\\n\", class_counts)\n",
    "\n",
    "# Plotting class balance\n",
    "plt.figure(figsize=(8, 6))\n",
    "sns.set(style=\"whitegrid\")\n",
    "sns.countplot(x='Label', data=df_filtred, palette=\"Set2\")\n",
    "plt.title('Class Distribution Before Balancing')\n",
    "plt.xlabel('Class Labels')\n",
    "plt.ylabel('Count')\n",
    "\n",
    "# # Displaying percentages on top of the bars\n",
    "# total = len(df_filtred['Label'])\n",
    "# for i, count in enumerate(class_counts):\n",
    "#     plt.text(i, count + 0.1, f'{count/total*100:.2f}%', ha='center')\n",
    "\n",
    "# Save the plot to a file if needed\n",
    "# plt.savefig('class_balance_plot.png')\n",
    "\n",
    "# Show the plot\n",
    "plt.show()\n"
   ]
  },
  {
   "cell_type": "code",
   "execution_count": 9,
   "id": "3984555a",
   "metadata": {},
   "outputs": [
    {
     "name": "stdout",
     "output_type": "stream",
     "text": [
      "(171969, 19)\n"
     ]
    },
    {
     "data": {
      "text/html": [
       "<div>\n",
       "<style scoped>\n",
       "    .dataframe tbody tr th:only-of-type {\n",
       "        vertical-align: middle;\n",
       "    }\n",
       "\n",
       "    .dataframe tbody tr th {\n",
       "        vertical-align: top;\n",
       "    }\n",
       "\n",
       "    .dataframe thead th {\n",
       "        text-align: right;\n",
       "    }\n",
       "</style>\n",
       "<table border=\"1\" class=\"dataframe\">\n",
       "  <thead>\n",
       "    <tr style=\"text-align: right;\">\n",
       "      <th></th>\n",
       "      <th>S1_Ax</th>\n",
       "      <th>S1_Ay</th>\n",
       "      <th>S1_Az</th>\n",
       "      <th>S1_Gx</th>\n",
       "      <th>S1_Gy</th>\n",
       "      <th>S1_Gz</th>\n",
       "      <th>S2_Ax</th>\n",
       "      <th>S2_Ay</th>\n",
       "      <th>S2_Az</th>\n",
       "      <th>S2_Gx</th>\n",
       "      <th>S2_Gy</th>\n",
       "      <th>S2_Gz</th>\n",
       "      <th>S3_Ax</th>\n",
       "      <th>S3_Ay</th>\n",
       "      <th>S3_Az</th>\n",
       "      <th>S3_Gx</th>\n",
       "      <th>S3_Gy</th>\n",
       "      <th>S3_Gz</th>\n",
       "      <th>Label</th>\n",
       "    </tr>\n",
       "  </thead>\n",
       "  <tbody>\n",
       "    <tr>\n",
       "      <th>0</th>\n",
       "      <td>-84.222490</td>\n",
       "      <td>-994.627346</td>\n",
       "      <td>8.055153</td>\n",
       "      <td>-0.370396</td>\n",
       "      <td>-2.620791</td>\n",
       "      <td>1.649596</td>\n",
       "      <td>311.291489</td>\n",
       "      <td>-1061.332673</td>\n",
       "      <td>81.294603</td>\n",
       "      <td>2.077435</td>\n",
       "      <td>-3.234044</td>\n",
       "      <td>-4.329407</td>\n",
       "      <td>-68.121248</td>\n",
       "      <td>-970.461276</td>\n",
       "      <td>150.138268</td>\n",
       "      <td>1.829730</td>\n",
       "      <td>0.240081</td>\n",
       "      <td>0.610366</td>\n",
       "      <td>Downstairs</td>\n",
       "    </tr>\n",
       "    <tr>\n",
       "      <th>1</th>\n",
       "      <td>-88.069874</td>\n",
       "      <td>-998.773910</td>\n",
       "      <td>11.651440</td>\n",
       "      <td>-0.282880</td>\n",
       "      <td>-3.161370</td>\n",
       "      <td>0.810362</td>\n",
       "      <td>301.127326</td>\n",
       "      <td>-1027.592784</td>\n",
       "      <td>86.576920</td>\n",
       "      <td>6.452058</td>\n",
       "      <td>2.962058</td>\n",
       "      <td>-3.769370</td>\n",
       "      <td>-70.387323</td>\n",
       "      <td>-977.643665</td>\n",
       "      <td>146.687971</td>\n",
       "      <td>0.477777</td>\n",
       "      <td>-0.317638</td>\n",
       "      <td>0.282808</td>\n",
       "      <td>Downstairs</td>\n",
       "    </tr>\n",
       "  </tbody>\n",
       "</table>\n",
       "</div>"
      ],
      "text/plain": [
       "       S1_Ax       S1_Ay      S1_Az     S1_Gx     S1_Gy     S1_Gz       S2_Ax  \\\n",
       "0 -84.222490 -994.627346   8.055153 -0.370396 -2.620791  1.649596  311.291489   \n",
       "1 -88.069874 -998.773910  11.651440 -0.282880 -3.161370  0.810362  301.127326   \n",
       "\n",
       "         S2_Ay      S2_Az     S2_Gx     S2_Gy     S2_Gz      S3_Ax  \\\n",
       "0 -1061.332673  81.294603  2.077435 -3.234044 -4.329407 -68.121248   \n",
       "1 -1027.592784  86.576920  6.452058  2.962058 -3.769370 -70.387323   \n",
       "\n",
       "        S3_Ay       S3_Az     S3_Gx     S3_Gy     S3_Gz       Label  \n",
       "0 -970.461276  150.138268  1.829730  0.240081  0.610366  Downstairs  \n",
       "1 -977.643665  146.687971  0.477777 -0.317638  0.282808  Downstairs  "
      ]
     },
     "execution_count": 9,
     "metadata": {},
     "output_type": "execute_result"
    }
   ],
   "source": [
    "from imblearn.over_sampling import ADASYN\n",
    "\n",
    "# split data into input and output elements\n",
    "X = df_filtred[['S1_Ax', 'S1_Ay', 'S1_Az', 'S1_Gx', 'S1_Gy',\n",
    "       'S1_Gz', 'S2_Ax', 'S2_Ay', 'S2_Az', 'S2_Gx', 'S2_Gy', 'S2_Gz', 'S3_Ax',\n",
    "       'S3_Ay', 'S3_Az', 'S3_Gx', 'S3_Gy', 'S3_Gz']]\n",
    "y = df_filtred[['Label']]\n",
    "\n",
    "# Change SMOTE to ADASYN\n",
    "oversample = ADASYN()\n",
    "Xo, yo = oversample.fit_resample(X, y)\n",
    "\n",
    "df_Adasyn = pd.concat([Xo, yo], axis=1)\n",
    "print(df_Adasyn.shape)\n",
    "df_Adasyn.head(2)\n"
   ]
  },
  {
   "cell_type": "code",
   "execution_count": 10,
   "id": "6b3ebad2",
   "metadata": {},
   "outputs": [
    {
     "name": "stdout",
     "output_type": "stream",
     "text": [
      "Class Counts:\n",
      " Laying        29472\n",
      "Upstairs      29345\n",
      "Standing      29065\n",
      "Sitting       28985\n",
      "Walking       28346\n",
      "Downstairs    26756\n",
      "Name: Label, dtype: int64\n"
     ]
    },
    {
     "data": {
      "image/png": "[encoded data removed]",
      "text/plain": [
       "<Figure size 576x432 with 1 Axes>"
      ]
     },
     "metadata": {},
     "output_type": "display_data"
    }
   ],
   "source": [
    "import matplotlib.pyplot as plt\n",
    "import seaborn as sns\n",
    "import pandas as pd\n",
    "\n",
    "\n",
    "# Checking class balance\n",
    "class_counts = df_Adasyn['Label'].value_counts()\n",
    "print(\"Class Counts:\\n\", class_counts)\n",
    "\n",
    "# Plotting class balance\n",
    "plt.figure(figsize=(8, 6))\n",
    "sns.set(style=\"whitegrid\")\n",
    "sns.countplot(x='Label', data=df_Adasyn, palette=\"Set2\")\n",
    "plt.title('Class Distribution After SMOTE Balancing')\n",
    "plt.xlabel('Class Labels')\n",
    "plt.ylabel('Count')\n",
    "\n",
    "# # Displaying percentages on top of the bars\n",
    "# total = len(df_filtred['Label'])\n",
    "# for i, count in enumerate(class_counts):\n",
    "#     plt.text(i, count + 0.1, f'{count/total*100:.2f}%', ha='center')\n",
    "\n",
    "# Save the plot to a file if needed\n",
    "# plt.savefig('class_balance_plot.png')\n",
    "\n",
    "# Show the plot\n",
    "plt.show()\n"
   ]
  },
  {
   "cell_type": "code",
   "execution_count": 11,
   "id": "de0bd882",
   "metadata": {},
   "outputs": [
    {
     "data": {
      "text/html": [
       "<div>\n",
       "<style scoped>\n",
       "    .dataframe tbody tr th:only-of-type {\n",
       "        vertical-align: middle;\n",
       "    }\n",
       "\n",
       "    .dataframe tbody tr th {\n",
       "        vertical-align: top;\n",
       "    }\n",
       "\n",
       "    .dataframe thead th {\n",
       "        text-align: right;\n",
       "    }\n",
       "</style>\n",
       "<table border=\"1\" class=\"dataframe\">\n",
       "  <thead>\n",
       "    <tr style=\"text-align: right;\">\n",
       "      <th></th>\n",
       "      <th>S1_Ax</th>\n",
       "      <th>S1_Ay</th>\n",
       "      <th>S1_Az</th>\n",
       "      <th>S1_Gx</th>\n",
       "      <th>S1_Gy</th>\n",
       "      <th>S1_Gz</th>\n",
       "      <th>S2_Ax</th>\n",
       "      <th>S2_Ay</th>\n",
       "      <th>S2_Az</th>\n",
       "      <th>S2_Gx</th>\n",
       "      <th>S2_Gy</th>\n",
       "      <th>S2_Gz</th>\n",
       "      <th>S3_Ax</th>\n",
       "      <th>S3_Ay</th>\n",
       "      <th>S3_Az</th>\n",
       "      <th>S3_Gx</th>\n",
       "      <th>S3_Gy</th>\n",
       "      <th>S3_Gz</th>\n",
       "      <th>Label</th>\n",
       "      <th>Label_id</th>\n",
       "    </tr>\n",
       "  </thead>\n",
       "  <tbody>\n",
       "    <tr>\n",
       "      <th>0</th>\n",
       "      <td>-84.222490</td>\n",
       "      <td>-994.627346</td>\n",
       "      <td>8.055153</td>\n",
       "      <td>-0.370396</td>\n",
       "      <td>-2.620791</td>\n",
       "      <td>1.649596</td>\n",
       "      <td>311.291489</td>\n",
       "      <td>-1061.332673</td>\n",
       "      <td>81.294603</td>\n",
       "      <td>2.077435</td>\n",
       "      <td>-3.234044</td>\n",
       "      <td>-4.329407</td>\n",
       "      <td>-68.121248</td>\n",
       "      <td>-970.461276</td>\n",
       "      <td>150.138268</td>\n",
       "      <td>1.829730</td>\n",
       "      <td>0.240081</td>\n",
       "      <td>0.610366</td>\n",
       "      <td>Downstairs</td>\n",
       "      <td>0</td>\n",
       "    </tr>\n",
       "    <tr>\n",
       "      <th>1</th>\n",
       "      <td>-88.069874</td>\n",
       "      <td>-998.773910</td>\n",
       "      <td>11.651440</td>\n",
       "      <td>-0.282880</td>\n",
       "      <td>-3.161370</td>\n",
       "      <td>0.810362</td>\n",
       "      <td>301.127326</td>\n",
       "      <td>-1027.592784</td>\n",
       "      <td>86.576920</td>\n",
       "      <td>6.452058</td>\n",
       "      <td>2.962058</td>\n",
       "      <td>-3.769370</td>\n",
       "      <td>-70.387323</td>\n",
       "      <td>-977.643665</td>\n",
       "      <td>146.687971</td>\n",
       "      <td>0.477777</td>\n",
       "      <td>-0.317638</td>\n",
       "      <td>0.282808</td>\n",
       "      <td>Downstairs</td>\n",
       "      <td>0</td>\n",
       "    </tr>\n",
       "  </tbody>\n",
       "</table>\n",
       "</div>"
      ],
      "text/plain": [
       "       S1_Ax       S1_Ay      S1_Az     S1_Gx     S1_Gy     S1_Gz       S2_Ax  \\\n",
       "0 -84.222490 -994.627346   8.055153 -0.370396 -2.620791  1.649596  311.291489   \n",
       "1 -88.069874 -998.773910  11.651440 -0.282880 -3.161370  0.810362  301.127326   \n",
       "\n",
       "         S2_Ay      S2_Az     S2_Gx     S2_Gy     S2_Gz      S3_Ax  \\\n",
       "0 -1061.332673  81.294603  2.077435 -3.234044 -4.329407 -68.121248   \n",
       "1 -1027.592784  86.576920  6.452058  2.962058 -3.769370 -70.387323   \n",
       "\n",
       "        S3_Ay       S3_Az     S3_Gx     S3_Gy     S3_Gz       Label  Label_id  \n",
       "0 -970.461276  150.138268  1.829730  0.240081  0.610366  Downstairs         0  \n",
       "1 -977.643665  146.687971  0.477777 -0.317638  0.282808  Downstairs         0  "
      ]
     },
     "execution_count": 11,
     "metadata": {},
     "output_type": "execute_result"
    }
   ],
   "source": [
    "df_Adasyn['Label_id']=df_Adasyn['Label']\n",
    "dff=df_Adasyn.replace({'Label_id': {'Downstairs':0,'Walking':1,'Upstairs':2,\n",
    "                        'Sitting':3,'Laying':4,'Standing':5}})\n",
    "dff.head(2)"
   ]
  },
  {
   "cell_type": "code",
   "execution_count": 12,
   "id": "79320b1a",
   "metadata": {},
   "outputs": [
    {
     "name": "stdout",
     "output_type": "stream",
     "text": [
      "(108170, 19)\n"
     ]
    },
    {
     "data": {
      "text/html": [
       "<div>\n",
       "<style scoped>\n",
       "    .dataframe tbody tr th:only-of-type {\n",
       "        vertical-align: middle;\n",
       "    }\n",
       "\n",
       "    .dataframe tbody tr th {\n",
       "        vertical-align: top;\n",
       "    }\n",
       "\n",
       "    .dataframe thead th {\n",
       "        text-align: right;\n",
       "    }\n",
       "</style>\n",
       "<table border=\"1\" class=\"dataframe\">\n",
       "  <thead>\n",
       "    <tr style=\"text-align: right;\">\n",
       "      <th></th>\n",
       "      <th>S1_Ax</th>\n",
       "      <th>S1_Ay</th>\n",
       "      <th>S1_Az</th>\n",
       "      <th>S1_Gx</th>\n",
       "      <th>S1_Gy</th>\n",
       "      <th>S1_Gz</th>\n",
       "      <th>S2_Ax</th>\n",
       "      <th>S2_Ay</th>\n",
       "      <th>S2_Az</th>\n",
       "      <th>S2_Gx</th>\n",
       "      <th>S2_Gy</th>\n",
       "      <th>S2_Gz</th>\n",
       "      <th>S3_Ax</th>\n",
       "      <th>S3_Ay</th>\n",
       "      <th>S3_Az</th>\n",
       "      <th>S3_Gx</th>\n",
       "      <th>S3_Gy</th>\n",
       "      <th>S3_Gz</th>\n",
       "      <th>Label_id</th>\n",
       "    </tr>\n",
       "  </thead>\n",
       "  <tbody>\n",
       "    <tr>\n",
       "      <th>108168</th>\n",
       "      <td>-1.184801</td>\n",
       "      <td>-1.246834</td>\n",
       "      <td>1.052031</td>\n",
       "      <td>-1.358904</td>\n",
       "      <td>1.442018</td>\n",
       "      <td>0.213337</td>\n",
       "      <td>-0.374825</td>\n",
       "      <td>0.984964</td>\n",
       "      <td>0.103477</td>\n",
       "      <td>-0.647672</td>\n",
       "      <td>0.728023</td>\n",
       "      <td>0.554009</td>\n",
       "      <td>-0.495231</td>\n",
       "      <td>-0.095276</td>\n",
       "      <td>0.177837</td>\n",
       "      <td>0.934893</td>\n",
       "      <td>3.810924</td>\n",
       "      <td>-1.627844</td>\n",
       "      <td>5</td>\n",
       "    </tr>\n",
       "    <tr>\n",
       "      <th>108169</th>\n",
       "      <td>-0.948608</td>\n",
       "      <td>-2.459766</td>\n",
       "      <td>0.808399</td>\n",
       "      <td>-2.407089</td>\n",
       "      <td>1.100033</td>\n",
       "      <td>0.209530</td>\n",
       "      <td>-0.625947</td>\n",
       "      <td>0.657764</td>\n",
       "      <td>0.264402</td>\n",
       "      <td>-0.508701</td>\n",
       "      <td>1.039492</td>\n",
       "      <td>0.488135</td>\n",
       "      <td>-0.641922</td>\n",
       "      <td>-0.120628</td>\n",
       "      <td>0.178026</td>\n",
       "      <td>0.853266</td>\n",
       "      <td>3.767479</td>\n",
       "      <td>-1.420029</td>\n",
       "      <td>5</td>\n",
       "    </tr>\n",
       "  </tbody>\n",
       "</table>\n",
       "</div>"
      ],
      "text/plain": [
       "           S1_Ax     S1_Ay     S1_Az     S1_Gx     S1_Gy     S1_Gz     S2_Ax  \\\n",
       "108168 -1.184801 -1.246834  1.052031 -1.358904  1.442018  0.213337 -0.374825   \n",
       "108169 -0.948608 -2.459766  0.808399 -2.407089  1.100033  0.209530 -0.625947   \n",
       "\n",
       "           S2_Ay     S2_Az     S2_Gx     S2_Gy     S2_Gz     S3_Ax     S3_Ay  \\\n",
       "108168  0.984964  0.103477 -0.647672  0.728023  0.554009 -0.495231 -0.095276   \n",
       "108169  0.657764  0.264402 -0.508701  1.039492  0.488135 -0.641922 -0.120628   \n",
       "\n",
       "           S3_Az     S3_Gx     S3_Gy     S3_Gz  Label_id  \n",
       "108168  0.177837  0.934893  3.810924 -1.627844         5  \n",
       "108169  0.178026  0.853266  3.767479 -1.420029         5  "
      ]
     },
     "execution_count": 12,
     "metadata": {},
     "output_type": "execute_result"
    }
   ],
   "source": [
    "# Label encoding\n",
    "df_filtred['Label_id']=df_filtred['Label']\n",
    "dff=df_filtred.replace({'Label_id': {'Downstairs':0,'Walking':1,'Upstairs':2,\n",
    "                        'Sitting':3,'Laying':4,'Standing':5}})\n",
    "## Normalize/Standardize data\n",
    "from sklearn.preprocessing import StandardScaler, LabelEncoder\n",
    "X = dff[['S1_Ax', 'S1_Ay', 'S1_Az', 'S1_Gx', 'S1_Gy','S1_Gz', 'S2_Ax', 'S2_Ay', 'S2_Az', 'S2_Gx', 'S2_Gy', 'S2_Gz', 'S3_Ax',\n",
    "       'S3_Ay', 'S3_Az', 'S3_Gx', 'S3_Gy', 'S3_Gz']]\n",
    "y = dff['Label_id']\n",
    "scaler = StandardScaler()\n",
    "dx = scaler.fit_transform(X)\n",
    "\n",
    "df_scaled = pd.DataFrame(data = dx, columns = X.columns)\n",
    "df_scaled['Label_id'] = y.values\n",
    "\n",
    "print(df_scaled.shape)\n",
    "df_scaled.tail(2)"
   ]
  },
  {
   "cell_type": "code",
   "execution_count": 13,
   "id": "b623d12b",
   "metadata": {},
   "outputs": [],
   "source": [
    "## Segmentation (window Preparation)\n",
    "import scipy.stats as stats\n",
    "Fs = 100\n",
    "segment_size = 500 # fs*3 # window size=n_time steps=frame size\n",
    "step_size = 50  #  Fs/2 # step size is related to window overlap\n",
    "n_features = 18\n",
    "def get_segments(df, segment_size, step_size):\n",
    "\n",
    "    segments = []\n",
    "    labels = []\n",
    "    \n",
    "    for i in range(0, len(df) - segment_size - 1, step_size):\n",
    "        S1Ax = df_scaled['S1_Ax'].values[i: i + segment_size]\n",
    "        S1Ay = df_scaled['S1_Ay'].values[i: i + segment_size]\n",
    "        S1Az = df_scaled['S1_Az'].values[i: i + segment_size]\n",
    "        S1Gx = df_scaled['S1_Gx'].values[i: i + segment_size]\n",
    "        S1Gy = df_scaled['S1_Gy'].values[i: i + segment_size]\n",
    "        S1Gz = df_scaled['S1_Gz'].values[i: i + segment_size]\n",
    "        \n",
    "        S2Ax = df_scaled['S2_Ax'].values[i: i + segment_size]\n",
    "        S2Ay = df_scaled['S2_Ay'].values[i: i + segment_size]\n",
    "        S2Az = df_scaled['S2_Az'].values[i: i + segment_size]\n",
    "        S2Gx = df_scaled['S2_Gx'].values[i: i + segment_size]\n",
    "        S2Gy = df_scaled['S2_Gy'].values[i: i + segment_size]\n",
    "        S2Gz = df_scaled['S2_Gz'].values[i: i + segment_size]\n",
    "        \n",
    "        \n",
    "        S3Ax = df_scaled['S3_Ax'].values[i: i + segment_size]\n",
    "        S3Ay = df_scaled['S3_Ay'].values[i: i + segment_size]\n",
    "        S3Az = df_scaled['S3_Az'].values[i: i + segment_size]\n",
    "        S3Gx = df_scaled['S3_Gx'].values[i: i + segment_size]\n",
    "        S3Gy = df_scaled['S3_Gy'].values[i: i + segment_size]\n",
    "        S3Gz = df_scaled['S3_Gz'].values[i: i + segment_size]\n",
    "        \n",
    "          # Retrieve the most often used label in this segment\n",
    "        # label = stats.mode(df_scaled['Label_id'][i: i + segment_size])[0][0] ## [0][0] shows the current sequence\n",
    "        label = np.unique(df_scaled['Label_id'][i: i + segment_size])[0]\n",
    "\n",
    "        #We used the dstack() to ensure that each array is stacked in such a way that\n",
    "        #the features are separated in the third dimension, as we would prefer.\n",
    "        segments.append(np.dstack([S1Ax, S1Ay, S1Az,S1Gx,S1Gy,S1Gz,S2Ax,S2Ay,S2Az, S2Gx,S2Gy,S2Gz,S3Ax,S3Ay,S3Az,S3Gx,S3Gy,S3Gz]))\n",
    "        labels.append(label)\n",
    "\n",
    "    # Bring the segments into a better shape\n",
    "    segments=np.asarray(segments, dtype= np.float32).reshape(-1, segment_size, n_features)\n",
    "    labels = np.asarray(pd.get_dummies(labels), dtype = np.float32)\n",
    "        \n",
    "    return segments, labels\n"
   ]
  },
  {
   "cell_type": "code",
   "execution_count": 14,
   "id": "0f7b9199",
   "metadata": {},
   "outputs": [],
   "source": [
    "X, y = get_segments(df_scaled, segment_size, step_size)"
   ]
  },
  {
   "cell_type": "code",
   "execution_count": 15,
   "id": "7ac4ad83",
   "metadata": {},
   "outputs": [
    {
     "data": {
      "text/plain": [
       "((2154, 500, 18), (2154, 6), 2154)"
      ]
     },
     "execution_count": 15,
     "metadata": {},
     "output_type": "execute_result"
    }
   ],
   "source": [
    "X.shape,y.shape, y.shape[0]"
   ]
  },
  {
   "cell_type": "code",
   "execution_count": 16,
   "id": "b7657368",
   "metadata": {},
   "outputs": [],
   "source": [
    "# # reshape data into time steps of sub-sequences\n",
    "\n",
    "# n_steps, n_length = 10, 50\n",
    "# df_X = X.reshape((X.shape[0], n_steps, n_length, n_features))\n",
    "# n_outputs = y.shape[1] #n_outputs= 6"
   ]
  },
  {
   "cell_type": "code",
   "execution_count": null,
   "id": "37ae5e9c",
   "metadata": {},
   "outputs": [],
   "source": []
  },
  {
   "cell_type": "code",
   "execution_count": 17,
   "id": "aa2e312b",
   "metadata": {},
   "outputs": [],
   "source": [
    "from sklearn.model_selection import train_test_split\n",
    "# split data into training set and test set\n",
    "X_train_main, X_test, y_train_main, y_test = train_test_split(X, y,test_size=0.15, random_state=42)\n",
    "\n",
    "# split training set into training and validation set\n",
    "X_train, X_valid, y_train, y_valid = train_test_split(X_train_main,y_train_main,test_size=0.15,random_state=42)"
   ]
  },
  {
   "cell_type": "code",
   "execution_count": 18,
   "id": "7ee7903a",
   "metadata": {},
   "outputs": [
    {
     "name": "stdout",
     "output_type": "stream",
     "text": [
      "X_train (1555, 500, 18)\n",
      "y_train (1555, 6)\n",
      "y_valid (275, 6)\n",
      "X_valid (275, 500, 18)\n",
      "X_test (324, 500, 18)\n",
      "y_test (324, 6)\n"
     ]
    }
   ],
   "source": [
    "print(\"X_train\",X_train.shape)\n",
    "print(\"y_train\",y_train.shape)\n",
    "print(\"y_valid\",y_valid.shape)\n",
    "print(\"X_valid\",X_valid.shape)\n",
    "print(\"X_test\",X_test.shape)\n",
    "print(\"y_test\",y_test.shape)\n"
   ]
  },
  {
   "cell_type": "code",
   "execution_count": 19,
   "id": "21e41fba",
   "metadata": {},
   "outputs": [],
   "source": [
    "from sklearn.model_selection import train_test_split"
   ]
  },
  {
   "cell_type": "code",
   "execution_count": 20,
   "id": "053dd298",
   "metadata": {},
   "outputs": [
    {
     "name": "stderr",
     "output_type": "stream",
     "text": [
      "2023-12-07 14:15:50.263898: I tensorflow/core/util/port.cc:113] oneDNN custom operations are on. You may see slightly different numerical results due to floating-point round-off errors from different computation orders. To turn them off, set the environment variable `TF_ENABLE_ONEDNN_OPTS=0`.\n",
      "2023-12-07 14:15:50.268008: I external/local_tsl/tsl/cuda/cudart_stub.cc:31] Could not find cuda drivers on your machine, GPU will not be used.\n",
      "2023-12-07 14:15:50.304322: E external/local_xla/xla/stream_executor/cuda/cuda_dnn.cc:9261] Unable to register cuDNN factory: Attempting to register factory for plugin cuDNN when one has already been registered\n",
      "2023-12-07 14:15:50.304366: E external/local_xla/xla/stream_executor/cuda/cuda_fft.cc:607] Unable to register cuFFT factory: Attempting to register factory for plugin cuFFT when one has already been registered\n",
      "2023-12-07 14:15:50.305765: E external/local_xla/xla/stream_executor/cuda/cuda_blas.cc:1515] Unable to register cuBLAS factory: Attempting to register factory for plugin cuBLAS when one has already been registered\n",
      "2023-12-07 14:15:50.313458: I external/local_tsl/tsl/cuda/cudart_stub.cc:31] Could not find cuda drivers on your machine, GPU will not be used.\n",
      "2023-12-07 14:15:50.314049: I tensorflow/core/platform/cpu_feature_guard.cc:182] This TensorFlow binary is optimized to use available CPU instructions in performance-critical operations.\n",
      "To enable the following instructions: AVX2 AVX512F AVX512_VNNI FMA, in other operations, rebuild TensorFlow with the appropriate compiler flags.\n",
      "2023-12-07 14:15:51.522573: W tensorflow/compiler/tf2tensorrt/utils/py_utils.cc:38] TF-TRT Warning: Could not find TensorRT\n"
     ]
    }
   ],
   "source": [
    "from keras.models import Sequential\n",
    "from keras.layers import Dense\n",
    "from keras.layers import Flatten\n",
    "from keras.layers import Dropout\n",
    "from keras.layers import LSTM\n",
    "from keras.layers import TimeDistributed\n",
    "# from keras.layers.convolutional import Conv1D\n",
    "# from keras.layers.convolutional import MaxPooling1D\n",
    "from keras.layers import Conv1D  # Updated import\n",
    "from keras.layers import MaxPooling1D  # Updated import"
   ]
  },
  {
   "cell_type": "code",
   "execution_count": 21,
   "id": "b12d79e9",
   "metadata": {},
   "outputs": [],
   "source": [
    "from tensorflow.keras.models import Model\n",
    "from tensorflow.keras.layers import Concatenate, Input, Dense, TimeDistributed, Conv1D, Dropout, MaxPooling2D, Flatten, LSTM\n",
    "from tensorflow.keras.layers import LayerNormalization, MultiHeadAttention, GlobalAveragePooling3D\n"
   ]
  },
  {
   "cell_type": "code",
   "execution_count": 22,
   "id": "ea22c2d3",
   "metadata": {},
   "outputs": [
    {
     "name": "stderr",
     "output_type": "stream",
     "text": [
      "2023-12-07 14:15:53.621201: W tensorflow/core/common_runtime/gpu/gpu_device.cc:2256] Cannot dlopen some GPU libraries. Please make sure the missing libraries mentioned above are installed properly if you would like to use GPU. Follow the guide at https://www.tensorflow.org/install/gpu for how to download and setup the required libraries for your platform.\n",
      "Skipping registering GPU devices...\n"
     ]
    },
    {
     "name": "stdout",
     "output_type": "stream",
     "text": [
      "Model: \"model_2\"\n",
      "__________________________________________________________________________________________________\n",
      " Layer (type)                Output Shape                 Param #   Connected to                  \n",
      "==================================================================================================\n",
      " input_1 (InputLayer)        [(None, 500, 18)]            0         []                            \n",
      "                                                                                                  \n",
      " model (Functional)          (None, 3016)                 1693297   ['input_1[0][0]']             \n",
      "                                                                                                  \n",
      " model_1 (Functional)        (None, 6)                    546310    ['input_1[0][0]']             \n",
      "                                                                                                  \n",
      " concatenate_1 (Concatenate  (None, 3022)                 0         ['model[0][0]',               \n",
      " )                                                                   'model_1[0][0]']             \n",
      "                                                                                                  \n",
      " dense_8 (Dense)             (None, 6)                    18138     ['concatenate_1[0][0]']       \n",
      "                                                                                                  \n",
      "==================================================================================================\n",
      "Total params: 2257745 (8.61 MB)\n",
      "Trainable params: 2257745 (8.61 MB)\n",
      "Non-trainable params: 0 (0.00 Byte)\n",
      "__________________________________________________________________________________________________\n"
     ]
    }
   ],
   "source": [
    "from tensorflow.keras.models import Model\n",
    "from tensorflow.keras.layers import Concatenate, Input, Dense, TimeDistributed, Conv1D, Dropout, MaxPooling1D, Flatten, LSTM, Bidirectional, Reshape, GlobalMaxPooling1D\n",
    "from tensorflow.keras.layers import LayerNormalization, MultiHeadAttention\n",
    "from tensorflow.keras.regularizers import l2\n",
    "from tensorflow.keras.callbacks import ReduceLROnPlateau\n",
    "from tensorflow.keras.optimizers import Adam\n",
    "from tensorflow.keras import layers, models\n",
    "\n",
    "# Assuming your segment shape is (128, 18)\n",
    "input_shape = (500, 18)\n",
    "n_outputs = 6  # Replace with your actual number of output classes\n",
    "\n",
    "def create_cnn_transformer_model(input_shape):\n",
    "    input_layer = Input(shape=input_shape)\n",
    "\n",
    "    # 1D CNN Branch\n",
    "    cnn_branch = Conv1D(filters=64, kernel_size=14, activation='relu')(input_layer)\n",
    "    cnn_branch = Conv1D(filters=32, kernel_size=10, activation='relu')(cnn_branch)\n",
    "    cnn_branch = Conv1D(filters=16, kernel_size=10, activation='relu')(cnn_branch)\n",
    "    cnn_branch = Dropout(0.2)(cnn_branch)\n",
    "    cnn_branch = MaxPooling1D(pool_size=2)(cnn_branch)\n",
    "    cnn_branch = GlobalMaxPooling1D()(cnn_branch)  # Use GlobalMaxPooling1D to reduce dimensions\n",
    "\n",
    "    # Transformer Encoder Branch\n",
    "    transformer_branch = LayerNormalization(epsilon=1e-6)(input_layer)\n",
    "\n",
    "    num_transformer_blocks = 3\n",
    "    d_model = 128\n",
    "    num_heads = 6\n",
    "    ffn_units = 1012\n",
    "    ff_dim = 245\n",
    "    mlp_dropout = 0.3\n",
    "    dropout_rate = 0.2\n",
    "\n",
    "    for _ in range(num_transformer_blocks):\n",
    "        transformer_branch = MultiHeadAttention(key_dim=d_model, num_heads=num_heads, dropout=dropout_rate)(transformer_branch, transformer_branch)\n",
    "        transformer_branch = Dropout(dropout_rate)(transformer_branch)\n",
    "\n",
    "        transformer_branch = TimeDistributed(Dense(64, activation=\"relu\"))(transformer_branch)  # Adjust the dimension as needed\n",
    "        transformer_branch = Conv1D(filters=ff_dim, kernel_size=1, activation='relu')(transformer_branch)\n",
    "        transformer_branch = Dropout(mlp_dropout)(transformer_branch)\n",
    "        transformer_branch = LayerNormalization(epsilon=1e-6)(transformer_branch + transformer_branch)\n",
    "\n",
    "    transformer_branch = Dense(6, activation=\"relu\")(transformer_branch)\n",
    "\n",
    "    # Flatten both branches\n",
    "    cnn_branch_flatten = Flatten()(cnn_branch)\n",
    "    transformer_branch_flatten = Flatten()(transformer_branch)\n",
    "\n",
    "    # Combine CNN and Transformer branches\n",
    "    merged = Concatenate(axis=-1)([cnn_branch_flatten, transformer_branch_flatten])\n",
    "\n",
    "    return Model(inputs=input_layer, outputs=merged)\n",
    "\n",
    "def create_bilstm_model(input_shape, n_outputs):\n",
    "    input_layer = Input(shape=input_shape)\n",
    "\n",
    "    # BiLSTM Branch\n",
    "    bilstm_branch = Bidirectional(LSTM(128, return_sequences=True, dropout=0.2, recurrent_dropout=0.2))(input_layer)\n",
    "    bilstm_branch = Bidirectional(LSTM(128, return_sequences=False, dropout=0.2, recurrent_dropout=0.2))(bilstm_branch)\n",
    "    bilstm_output = layers.Dense(352, activation='relu')(bilstm_branch)\n",
    "    bilstm_output = layers.Dense(100, activation='relu')(bilstm_output)\n",
    "    bilstm_output = layers.Dense(32, activation='relu')(bilstm_output)\n",
    "\n",
    "    # Output Layer\n",
    "    output_layer = Dense(n_outputs, activation='softmax')(bilstm_branch)\n",
    "\n",
    "    return Model(inputs=input_layer, outputs=output_layer)\n",
    "\n",
    "def create_combined_model(input_shape, n_outputs=n_outputs):\n",
    "    input_layer = Input(shape=input_shape)\n",
    "\n",
    "    # CNN + Transformer Branch\n",
    "    cnn_transformer_model = create_cnn_transformer_model(input_shape)\n",
    "    cnn_transformer_output = cnn_transformer_model(input_layer)\n",
    "\n",
    "    # BiLSTM Branch\n",
    "    bilstm_model = create_bilstm_model(input_shape, n_outputs)\n",
    "    bilstm_output = bilstm_model(input_layer)\n",
    "    \n",
    "    # Concatenate the outputs of both branches\n",
    "    merged = Concatenate(axis=-1)([cnn_transformer_output, bilstm_output])\n",
    "\n",
    "    # Shared output layer\n",
    "    output_layer = Dense(n_outputs, activation='softmax')(merged)\n",
    "\n",
    "    # Create the final model\n",
    "    model = Model(inputs=input_layer, outputs=output_layer)\n",
    "\n",
    "    # Compile the model with the desired optimizer, loss, and metrics\n",
    "    model.compile(optimizer=Adam(learning_rate=0.001), loss='categorical_crossentropy', metrics=['accuracy'])\n",
    "\n",
    "    return model\n",
    "\n",
    "# Define the learning rate reduction callback\n",
    "reduce_lr = ReduceLROnPlateau(monitor='val_loss', factor=0.2, patience=3, min_lr=1e-6)\n",
    "\n",
    "# Create the combined model\n",
    "combined_model = create_combined_model(input_shape, n_outputs)\n",
    "\n",
    "# Display the summary of the combined model\n",
    "combined_model.summary()\n"
   ]
  },
  {
   "cell_type": "code",
   "execution_count": null,
   "id": "024a0364",
   "metadata": {},
   "outputs": [
    {
     "name": "stdout",
     "output_type": "stream",
     "text": [
      "Epoch 1/35\n",
      "49/49 [==============================] - 114s 2s/step - loss: 1.3736 - accuracy: 0.4765 - val_loss: 0.8924 - val_accuracy: 0.6691 - lr: 0.0010\n",
      "Epoch 2/35\n",
      "49/49 [==============================] - 101s 2s/step - loss: 0.7773 - accuracy: 0.7132 - val_loss: 0.6081 - val_accuracy: 0.7818 - lr: 0.0010\n",
      "Epoch 3/35\n",
      "49/49 [==============================] - 101s 2s/step - loss: 0.5195 - accuracy: 0.8077 - val_loss: 0.4673 - val_accuracy: 0.8109 - lr: 0.0010\n",
      "Epoch 4/35\n",
      "49/49 [==============================] - 101s 2s/step - loss: 0.3693 - accuracy: 0.8650 - val_loss: 0.3572 - val_accuracy: 0.8582 - lr: 0.0010\n",
      "Epoch 5/35\n",
      "49/49 [==============================] - 100s 2s/step - loss: 0.3083 - accuracy: 0.8907 - val_loss: 0.2980 - val_accuracy: 0.9200 - lr: 0.0010\n",
      "Epoch 6/35\n",
      "49/49 [==============================] - 101s 2s/step - loss: 0.2538 - accuracy: 0.9151 - val_loss: 0.3426 - val_accuracy: 0.8727 - lr: 0.0010\n",
      "Epoch 7/35\n",
      "49/49 [==============================] - 101s 2s/step - loss: 0.2135 - accuracy: 0.9273 - val_loss: 0.2807 - val_accuracy: 0.9127 - lr: 0.0010\n",
      "Epoch 8/35\n",
      "49/49 [==============================] - 101s 2s/step - loss: 0.1638 - accuracy: 0.9453 - val_loss: 0.2443 - val_accuracy: 0.9418 - lr: 0.0010\n",
      "Epoch 9/35\n",
      "49/49 [==============================] - 101s 2s/step - loss: 0.1305 - accuracy: 0.9621 - val_loss: 0.3032 - val_accuracy: 0.8945 - lr: 0.0010\n",
      "Epoch 10/35\n",
      "49/49 [==============================] - 101s 2s/step - loss: 0.1332 - accuracy: 0.9582 - val_loss: 0.3048 - val_accuracy: 0.9127 - lr: 0.0010\n",
      "Epoch 11/35\n",
      "49/49 [==============================] - 101s 2s/step - loss: 0.1393 - accuracy: 0.9460 - val_loss: 0.2022 - val_accuracy: 0.9309 - lr: 0.0010\n",
      "Epoch 12/35\n",
      "49/49 [==============================] - 101s 2s/step - loss: 0.1454 - accuracy: 0.9543 - val_loss: 0.2823 - val_accuracy: 0.9200 - lr: 0.0010\n",
      "Epoch 13/35\n",
      "49/49 [==============================] - 101s 2s/step - loss: 0.1345 - accuracy: 0.9588 - val_loss: 0.2611 - val_accuracy: 0.9236 - lr: 0.0010\n",
      "Epoch 14/35\n",
      "49/49 [==============================] - 101s 2s/step - loss: 0.1091 - accuracy: 0.9646 - val_loss: 0.1987 - val_accuracy: 0.9527 - lr: 0.0010\n",
      "Epoch 15/35\n",
      "49/49 [==============================] - 101s 2s/step - loss: 0.0878 - accuracy: 0.9743 - val_loss: 0.2148 - val_accuracy: 0.9382 - lr: 0.0010\n",
      "Epoch 16/35\n",
      "49/49 [==============================] - 101s 2s/step - loss: 0.1003 - accuracy: 0.9678 - val_loss: 0.3204 - val_accuracy: 0.9091 - lr: 0.0010\n",
      "Epoch 17/35\n",
      "31/49 [=================>............] - ETA: 36s - loss: 0.0823 - accuracy: 0.9688"
     ]
    }
   ],
   "source": [
    "\n",
    "\n",
    "# Training the combined model\n",
    "history = combined_model.fit(\n",
    "    X_train,\n",
    "    y_train,\n",
    "    epochs=35,\n",
    "    batch_size=32,\n",
    "    validation_data=(X_valid, y_valid),\n",
    "    callbacks=[reduce_lr]\n",
    ")\n"
   ]
  },
  {
   "cell_type": "code",
   "execution_count": null,
   "id": "467a81bb",
   "metadata": {},
   "outputs": [],
   "source": [
    "# Evaluate the model on the test set\n",
    "test_loss, test_accuracy = combined_model.evaluate(X_test, y_test)\n",
    "print(f\"Test Loss: {test_loss}, Test Accuracy: {test_accuracy}\")"
   ]
  },
  {
   "cell_type": "code",
   "execution_count": null,
   "id": "83ba7d3e",
   "metadata": {},
   "outputs": [],
   "source": [
    "def plot_learningCurve(history, epochs):\n",
    "  # Plot training & validation accuracy values\n",
    "  epoch_range = range(1, epochs+1)\n",
    "  plt.plot(epoch_range, history.history['accuracy'])\n",
    "  plt.plot(epoch_range, history.history['val_accuracy'])\n",
    "  plt.title('Model accuracy')\n",
    "  plt.ylabel('Accuracy')\n",
    "  plt.xlabel('Epoch')\n",
    "  plt.legend(['Train', 'Val'], loc='upper left')\n",
    "  plt.show()\n",
    "\n",
    "  # Plot training & validation loss values\n",
    "  plt.plot(epoch_range, history.history['loss'])\n",
    "  plt.plot(epoch_range, history.history['val_loss'])\n",
    "  plt.title('Model loss')\n",
    "  plt.ylabel('Loss')\n",
    "  plt.xlabel('Epoch')\n",
    "  plt.legend(['Train', 'Val'], loc='upper left')\n",
    "  plt.show()"
   ]
  },
  {
   "cell_type": "code",
   "execution_count": null,
   "id": "4522b995",
   "metadata": {},
   "outputs": [],
   "source": [
    "plot_learningCurve(history, 25)"
   ]
  },
  {
   "cell_type": "code",
   "execution_count": null,
   "id": "0efe552b",
   "metadata": {},
   "outputs": [],
   "source": [
    "# Make Predictions on test \n",
    "y_preds_test = combined_model.predict(X_test) #class Prediction \n",
    "\n",
    "y_preds_test[:3], #y_probs_test[:5]"
   ]
  },
  {
   "cell_type": "code",
   "execution_count": null,
   "id": "5bd42dd7",
   "metadata": {},
   "outputs": [],
   "source": [
    "y_test[:5,]"
   ]
  },
  {
   "cell_type": "code",
   "execution_count": null,
   "id": "4abe3fd7",
   "metadata": {},
   "outputs": [],
   "source": [
    "y_pred_test=np.argmax(y_preds_test,axis=1) \n",
    "y_true_test=np.argmax(y_test,axis=1) \n",
    "\n",
    "y_true_test.shape, y_test.shape"
   ]
  },
  {
   "cell_type": "code",
   "execution_count": null,
   "id": "c0573cb0",
   "metadata": {},
   "outputs": [],
   "source": [
    "### Evaluate Model using accuracy \n",
    "from sklearn.metrics import accuracy_score,classification_report\n",
    "print(\"Test  acc : {}\".format(accuracy_score(y_true_test, y_pred_test)))\n",
    "print(\"\\n -------------Classification Report-------------\\n\")\n",
    "print(classification_report(y_true_test, y_pred_test))"
   ]
  },
  {
   "cell_type": "code",
   "execution_count": null,
   "id": "8842bc0d",
   "metadata": {},
   "outputs": [],
   "source": [
    "y_pred_test = combined_model.predict(X_test) #class Prediction \n",
    "\n",
    "y_pred_test=np.argmax(y_pred_test,axis=1) \n",
    "y_true_test=np.argmax(y_test,axis=1) \n",
    "\n",
    "y_true_test.shape, y_pred_test.shape"
   ]
  },
  {
   "cell_type": "code",
   "execution_count": null,
   "id": "d9112c81",
   "metadata": {},
   "outputs": [],
   "source": [
    "import seaborn as sns\n",
    "import sklearn.metrics as skm\n",
    "import matplotlib.pyplot as plt\n",
    "from sklearn.metrics import accuracy_score as acc\n",
    "from sklearn.metrics import confusion_matrix,classification_report\n",
    "cm=confusion_matrix(y_true_test,y_pred_test)\n",
    "print(cm)\n",
    "print(acc(y_true_test,y_pred_test))\n",
    "print(classification_report(y_true_test,y_pred_test))"
   ]
  },
  {
   "cell_type": "code",
   "execution_count": null,
   "id": "685e4cbc",
   "metadata": {},
   "outputs": [],
   "source": [
    "cf=np.empty((6,6))\n",
    "for i in range(6):\n",
    "    cf[i]=(cm[i]/np.sum(cm[i]))"
   ]
  },
  {
   "cell_type": "code",
   "execution_count": null,
   "id": "9cd87fc6",
   "metadata": {},
   "outputs": [],
   "source": [
    "# group_counts = [\"{0:.0f}\".format(value) for value in cm.flatten()]\n",
    "group_percentages = [\"{0:.2%}\".format(value) for value in cf.flatten()]\n",
    "labels = [f\"{v1}\" for v1 in group_percentages]\n",
    "labels = np.asarray(labels).reshape(6,6)"
   ]
  },
  {
   "cell_type": "code",
   "execution_count": null,
   "id": "6efca9ed",
   "metadata": {},
   "outputs": [],
   "source": [
    "fig = plt.figure(figsize=(10,7))\n",
    "ax=fig.add_subplot(111)\n",
    "#sns.heatmap(cm, annot=labels,fmt=\"\",cmap='RdYlBu_r',ax=ax)\n",
    "sns.heatmap(cm, annot=labels,fmt=\"\",cmap='Spectral_r',ax=ax)\n",
    "ax.set_xlabel(\"Predicted Labels\\n\\n Overall_accuracy=\"\"{0:.2%}\".format((acc(y_true_test,y_pred_test))),size=14)\n",
    "ax.set_ylabel(\"True Labels\",size=14)\n",
    "ax.set_title(\"Confusion Matrix\",size=14)\n",
    "ax.xaxis.set_ticklabels(['Downstairs','Walking','Upstairs','Sitting','Laying','Standing'])\n",
    "ax.yaxis.set_ticklabels(['Downstairs','Walking','Upstairs','Sitting','Laying','Standing'])\n",
    "plt.savefig('ConfusionMatrix_smart belt',dpi=1200, bbox_inches='tight')"
   ]
  }
 ],
 "metadata": {
  "kernelspec": {
   "display_name": "Python 3",
   "language": "python",
   "name": "python3"
  },
  "language_info": {
   "codemirror_mode": {
    "name": "ipython",
    "version": 3
   },
   "file_extension": ".py",
   "mimetype": "text/x-python",
   "name": "python",
   "nbconvert_exporter": "python",
   "pygments_lexer": "ipython3",
   "version": "3.9.12"
  }
 },
 "nbformat": 4,
 "nbformat_minor": 5
}
